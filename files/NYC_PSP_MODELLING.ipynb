{
 "cells": [
  {
   "cell_type": "markdown",
   "metadata": {
    "id": "dMOfXWHZW3tb"
   },
   "source": [
    "# **NYC Property Sales Predictor (PSP) Modelling**\n",
    "\n",
    "## **Goal**\n",
    "For this entire project, I'm going to build a machine learning model that could predict the property sales price for properties in NYC. I'm dividing my project into the following sections:\n",
    "\n",
    "* **EDA**\n",
    "* **Data Preparation**\n",
    "* **Modelling**\n",
    "\n",
    "## **Project description**\n",
    "In this document, I'm showing my modelling part for this project. For this project I'm going to use multiple algorithms:\n",
    "*   Linear Regression\n",
    "*   Random Forest \n",
    "*   XGBoost\n",
    "\n",
    "Because I'm still working on this project, I'm using in this document only one algorithm: the Random Forest. Later on, I'm going to make this document more complete with more steps to finish this project. That is also the reason that the test data will not be used and the models only get evaluated on the validation data.\n",
    "\n",
    "\n"
   ]
  },
  {
   "cell_type": "markdown",
   "metadata": {
    "id": "rwgbmp6YYvF_"
   },
   "source": [
    "## **Importing Libraries**"
   ]
  },
  {
   "cell_type": "code",
   "execution_count": 1,
   "metadata": {
    "executionInfo": {
     "elapsed": 1490,
     "status": "ok",
     "timestamp": 1618575548210,
     "user": {
      "displayName": "Milan Patty",
      "photoUrl": "https://lh5.googleusercontent.com/-49abHFgA8WA/AAAAAAAAAAI/AAAAAAAAcec/0-aejkLTAzs/s64/photo.jpg",
      "userId": "07657054432866429697"
     },
     "user_tz": -120
    },
    "id": "b2l2YMjzXJ8s"
   },
   "outputs": [],
   "source": [
    "import pandas as pd # Data manipulation\n",
    "import numpy as np # Scientific computing\n",
    "from numpy import percentile # For IQR\n",
    "\n",
    "import matplotlib.pyplot as plt # Data Visualization\n",
    "import seaborn as sns # Data Visualization\n",
    "\n",
    "sns.set(style='darkgrid', context='notebook', palette='deep') # Theme\n",
    "import matplotlib.style as style\n",
    "style.use('fivethirtyeight') # Theme\n",
    "import warnings; warnings.simplefilter('ignore') # Ignore warnings"
   ]
  },
  {
   "cell_type": "markdown",
   "metadata": {
    "id": "lZgrok9EZe1h"
   },
   "source": [
    "## **Importing Data**\n",
    "For this project I'm using my data set that I prepared in the data preparation section."
   ]
  },
  {
   "cell_type": "code",
   "execution_count": 2,
   "metadata": {
    "executionInfo": {
     "elapsed": 2079,
     "status": "ok",
     "timestamp": 1618575598560,
     "user": {
      "displayName": "Milan Patty",
      "photoUrl": "https://lh5.googleusercontent.com/-49abHFgA8WA/AAAAAAAAAAI/AAAAAAAAcec/0-aejkLTAzs/s64/photo.jpg",
      "userId": "07657054432866429697"
     },
     "user_tz": -120
    },
    "id": "o-Mgug78ZjrK"
   },
   "outputs": [],
   "source": [
    "merged = pd.read_csv('data/merged_nyc_dataset.csv')"
   ]
  },
  {
   "cell_type": "markdown",
   "metadata": {
    "id": "K0I8zOi4YuOy"
   },
   "source": [
    "# **Machine Learning Part**\n",
    "As I described above, I'm not including multiple algorithms and things as hyperparameter tuning. I'm going to create 2 models and compare them. I'm using the same algorithm for both models(the Random Forest) but the difference between these 2 models is that I'm feeding my second model improved data where I applied feature engineering to see what the impact from feature engineering was on my models predicting performance.\n",
    "\n",
    "This is what my modelling part looks like so far:\n",
    "\n",
    "1. **Modelling**\n",
    "2. **Predictions and evaluation**\n",
    "3. **Feature Engineering**\n",
    "4. **Compare results**\n",
    "\n"
   ]
  },
  {
   "cell_type": "markdown",
   "metadata": {
    "id": "K1DfvCnWoDnF"
   },
   "source": [
    "## **1. Modelling**\n",
    "For the modelling part, I'm going to use pipelines. Pipelines are a simple way to keep your preprocessing and modelling code organized. Specifically, a pipeline bundles preprocessing and modeling steps so you can use the whole bundle as if it were a single step. \n",
    "\n",
    "These are the steps that I'm taking for building a machine learning model:\n",
    "* Splitting the data\n",
    "* Filling the numerical missing values\n",
    "* Using OneHotEncoding to transform the categorical features into numerical values\n",
    "* Using ColumnTransformer to bundle the different preprocessing steps\n",
    "* Instantiate a model\n",
    "* Bundle the preprocessing and model code in a pipeline\n",
    "\n",
    "\n",
    "\n",
    "\n"
   ]
  },
  {
   "cell_type": "markdown",
   "metadata": {
    "id": "qnQLOMkdiRZo"
   },
   "source": [
    "### **Preprocessing the data**\n",
    "Before I'm creating a ML pipeline, I'm dividing the data into train, validation en test. I'm using the **train** data to train the machine learning model, evaluate the model on the **validation** data and improving it before I'm feeding it the **test** data it hasn't seen before.\n",
    "I will divide my data into the following sections:\n",
    "\n",
    "*   **70% for training**\n",
    "*   **15% for evaluation**\n",
    "*   **15% for testing**\n"
   ]
  },
  {
   "cell_type": "code",
   "execution_count": 3,
   "metadata": {
    "executionInfo": {
     "elapsed": 680,
     "status": "ok",
     "timestamp": 1618578927928,
     "user": {
      "displayName": "Milan Patty",
      "photoUrl": "https://lh5.googleusercontent.com/-49abHFgA8WA/AAAAAAAAAAI/AAAAAAAAcec/0-aejkLTAzs/s64/photo.jpg",
      "userId": "07657054432866429697"
     },
     "user_tz": -120
    },
    "id": "ulC2Ni0S8ENR"
   },
   "outputs": [],
   "source": [
    "# Importing libraries\n",
    "from sklearn.model_selection import train_test_split\n",
    "from sklearn.compose import ColumnTransformer\n",
    "from sklearn.pipeline import Pipeline\n",
    "from sklearn.impute import SimpleImputer\n",
    "from sklearn.preprocessing import OneHotEncoder\n",
    "from sklearn.metrics import mean_absolute_error, mean_squared_error, r2_score\n",
    "from sklearn.ensemble import RandomForestRegressor"
   ]
  },
  {
   "cell_type": "code",
   "execution_count": 4,
   "metadata": {
    "executionInfo": {
     "elapsed": 641,
     "status": "ok",
     "timestamp": 1618578928237,
     "user": {
      "displayName": "Milan Patty",
      "photoUrl": "https://lh5.googleusercontent.com/-49abHFgA8WA/AAAAAAAAAAI/AAAAAAAAcec/0-aejkLTAzs/s64/photo.jpg",
      "userId": "07657054432866429697"
     },
     "user_tz": -120
    },
    "id": "DjOZQyEi8Eim"
   },
   "outputs": [],
   "source": [
    "# Creating a copy of the  merged dataframe\n",
    "copy = merged.copy()\n",
    "# Splitting the data into X &y\n",
    "X = copy.drop(['ADDRESS', 'SALE PRICE'], axis=1) # Dropping some irrelevant columns and the target\n",
    "y = copy['SALE PRICE']"
   ]
  },
  {
   "cell_type": "code",
   "execution_count": 5,
   "metadata": {
    "executionInfo": {
     "elapsed": 461,
     "status": "ok",
     "timestamp": 1618578928440,
     "user": {
      "displayName": "Milan Patty",
      "photoUrl": "https://lh5.googleusercontent.com/-49abHFgA8WA/AAAAAAAAAAI/AAAAAAAAcec/0-aejkLTAzs/s64/photo.jpg",
      "userId": "07657054432866429697"
     },
     "user_tz": -120
    },
    "id": "5bGUkrSCo4B0"
   },
   "outputs": [],
   "source": [
    "X_train, X_test, y_train, y_test = train_test_split(X, y, test_size=0.15, random_state=1) # 15% for test data\n",
    "\n",
    "X_train, X_val, y_train, y_val = train_test_split(X_train, y_train, test_size=0.175, random_state=1) # ~15% for validation data\n",
    "\n",
    "one_perc = len(copy)/100"
   ]
  },
  {
   "cell_type": "markdown",
   "metadata": {
    "id": "fEowyo3iLyTo"
   },
   "source": [
    "It seems that this data is almost perfectly divided into train,val, and split. Because the percentages are not too far off from what I wanted, I'm accepting these numbers so that the next step could be preprocessing the data.\n"
   ]
  },
  {
   "cell_type": "code",
   "execution_count": 6,
   "metadata": {
    "colab": {
     "base_uri": "https://localhost:8080/"
    },
    "executionInfo": {
     "elapsed": 497,
     "status": "ok",
     "timestamp": 1618578929192,
     "user": {
      "displayName": "Milan Patty",
      "photoUrl": "https://lh5.googleusercontent.com/-49abHFgA8WA/AAAAAAAAAAI/AAAAAAAAcec/0-aejkLTAzs/s64/photo.jpg",
      "userId": "07657054432866429697"
     },
     "user_tz": -120
    },
    "id": "d976E3fmFjec",
    "outputId": "ae8d1b63-a45a-4c47-8cb9-18c1547c0f36"
   },
   "outputs": [
    {
     "name": "stdout",
     "output_type": "stream",
     "text": [
      "I divided my dataset into the following pieces:\n",
      "Im using approximately 70.1% of the data for training.\n",
      "Im using approximately 14.9% of the data for validation.\n",
      "Im using approximately 15.0% of the data for testing.\n"
     ]
    }
   ],
   "source": [
    "# Checking if I divided my data correctly into train, validation and split\n",
    "print('I divided my dataset into the following pieces:')\n",
    "print(f'Im using approximately {round(len(X_train)/ one_perc,1 )}% of the data for training.')\n",
    "print(f'Im using approximately {round(len(X_val)/ one_perc,1 )}% of the data for validation.')\n",
    "print(f'Im using approximately {round(len(X_test)/ one_perc,1 )}% of the data for testing.')"
   ]
  },
  {
   "cell_type": "code",
   "execution_count": 7,
   "metadata": {
    "executionInfo": {
     "elapsed": 836,
     "status": "ok",
     "timestamp": 1618578929945,
     "user": {
      "displayName": "Milan Patty",
      "photoUrl": "https://lh5.googleusercontent.com/-49abHFgA8WA/AAAAAAAAAAI/AAAAAAAAcec/0-aejkLTAzs/s64/photo.jpg",
      "userId": "07657054432866429697"
     },
     "user_tz": -120
    },
    "id": "izmwsZucNvMt"
   },
   "outputs": [],
   "source": [
    "# Selecting categorical columns\n",
    "categorical_cols = [cname for cname in X_train.columns if X_train[cname].dtype == \"object\"]\n",
    "\n",
    "# Select numerical columns\n",
    "numerical_cols = [cname for cname in X_train.columns if X_train[cname].dtype in ['int64', 'float64']]\n",
    "\n",
    "# Keep selected columns only\n",
    "my_cols = categorical_cols + numerical_cols\n",
    "X_train = X_train[my_cols].copy()\n",
    "X_val = X_val[my_cols].copy()\n",
    "X_test = X_test[my_cols].copy()"
   ]
  },
  {
   "cell_type": "code",
   "execution_count": 8,
   "metadata": {
    "executionInfo": {
     "elapsed": 948,
     "status": "ok",
     "timestamp": 1618578930478,
     "user": {
      "displayName": "Milan Patty",
      "photoUrl": "https://lh5.googleusercontent.com/-49abHFgA8WA/AAAAAAAAAAI/AAAAAAAAcec/0-aejkLTAzs/s64/photo.jpg",
      "userId": "07657054432866429697"
     },
     "user_tz": -120
    },
    "id": "e_efUHKvQLa-"
   },
   "outputs": [],
   "source": [
    "# Preprocessing the numerical data\n",
    "numerical_transformer = SimpleImputer(strategy='median')\n",
    "\n",
    "# Preprocessing the categorical data\n",
    "categorical_transformer = Pipeline(steps=[\n",
    "  ('onehot', OneHotEncoder(handle_unknown='ignore'))\n",
    "])\n",
    "\n",
    "# Bundle the preprocessing steps using ColumnTransformer\n",
    "preprocessor = ColumnTransformer(\n",
    "    transformers=[\n",
    "        ('num', numerical_transformer, numerical_cols),\n",
    "        ('cat', categorical_transformer, categorical_cols)\n",
    "    ])"
   ]
  },
  {
   "cell_type": "markdown",
   "metadata": {
    "id": "8vKL0fKNRWrI"
   },
   "source": [
    "### **2. Predictions and evaluation**\n",
    "For the predictions and evaluation part of this project I'm using the **Random Forest Regressor**.\n",
    "\n",
    "For evaluating the models, I'm building a function that shows the following evaluation metrics for the training and validation data:\n",
    "\n",
    "*   **Mean Absolute Error (MAE):**\n",
    "Every residual (distance between fitted line and observation) needs to be calculated for every data point, taking only the absolute value of each. Then the average of the residuals is the MAE.\n",
    "*   **Mean Squared Error (MSE)**\n",
    "The MSE is just like the MAE, but squares the difference before summing them all instead of using the absolute value. MSE is more popular because it punishes larger which tend to be useful in the real world.\n",
    "*   **R2**:\n",
    "In regression, R2 a statistical measure of how well the regression predictions approximate the real data points.\n",
    "\n",
    "\n",
    "\n",
    "\n",
    "\n",
    "\n"
   ]
  },
  {
   "cell_type": "code",
   "execution_count": 9,
   "metadata": {
    "executionInfo": {
     "elapsed": 312,
     "status": "ok",
     "timestamp": 1618578930758,
     "user": {
      "displayName": "Milan Patty",
      "photoUrl": "https://lh5.googleusercontent.com/-49abHFgA8WA/AAAAAAAAAAI/AAAAAAAAcec/0-aejkLTAzs/s64/photo.jpg",
      "userId": "07657054432866429697"
     },
     "user_tz": -120
    },
    "id": "mz-g-dWCZ9b6"
   },
   "outputs": [],
   "source": [
    "# Building the evaluation function\n",
    "def show_scores(model):\n",
    "  # Bundle the transformer and the model together\n",
    "  my_pipeline = Pipeline(steps=[('preprocessor', preprocessor),\n",
    "                      ('model', model)\n",
    "                     ])\n",
    "  # Fitting the data\n",
    "  my_pipeline.fit(X_train, y_train)\n",
    "\n",
    "  # Creating predictions for both train and test\n",
    "  train_preds = my_pipeline.predict(X_train)\n",
    "  val_preds = my_pipeline.predict(X_val)\n",
    "\n",
    "  # Use the metrics to evaluate on train and test\n",
    "  scores = {'Training MAE': mean_absolute_error(y_train, train_preds),\n",
    "            'Validation MAE': mean_absolute_error(y_val, val_preds),\n",
    "            'Training MSE': mean_squared_error(y_train, train_preds),\n",
    "            'Validation MSE': mean_squared_error(y_val, val_preds),\n",
    "            'Training R2': r2_score(y_train, train_preds),\n",
    "            'Validation R2': r2_score(y_val, val_preds)}\n",
    "  \n",
    "  sns.scatterplot(y_val, val_preds)\n",
    "  #sns.distplot((y_val - val_preds))\n",
    "\n",
    "  return scores\n"
   ]
  },
  {
   "cell_type": "markdown",
   "metadata": {
    "id": "9Y84ow8eaD6R"
   },
   "source": [
    "#### **2.1 Baseline Random Forest**"
   ]
  },
  {
   "cell_type": "code",
   "execution_count": 10,
   "metadata": {
    "colab": {
     "base_uri": "https://localhost:8080/",
     "height": 324
    },
    "executionInfo": {
     "elapsed": 223100,
     "status": "ok",
     "timestamp": 1618579156277,
     "user": {
      "displayName": "Milan Patty",
      "photoUrl": "https://lh5.googleusercontent.com/-49abHFgA8WA/AAAAAAAAAAI/AAAAAAAAcec/0-aejkLTAzs/s64/photo.jpg",
      "userId": "07657054432866429697"
     },
     "user_tz": -120
    },
    "id": "NmlEZxhRZhMb",
    "outputId": "0c52af5b-77e5-4c96-b667-1bc75c0431cb"
   },
   "outputs": [
    {
     "name": "stdout",
     "output_type": "stream",
     "text": [
      "CPU times: user 3min 3s, sys: 440 ms, total: 3min 3s\n",
      "Wall time: 3min 4s\n"
     ]
    },
    {
     "data": {
      "image/png": "[encoded data removed]",
      "text/plain": [
       "<Figure size 432x288 with 1 Axes>"
      ]
     },
     "metadata": {},
     "output_type": "display_data"
    }
   ],
   "source": [
    "%%time\n",
    "model1 = show_scores(RandomForestRegressor(random_state=1))"
   ]
  },
  {
   "cell_type": "markdown",
   "metadata": {
    "id": "EGCtY6PIe2GH"
   },
   "source": [
    "## **3. Feature Engineering**\n",
    "To improve my model's performance, I'm going to use feature engineering. Feature engineering is the process of creating new features that didn't exist before to improve my models predicting performance. In my process I'm using the following techniques for creating new features:\n",
    "\n",
    "1. **Mathematical transforms:**\n",
    "Using arithmetic operations to create new numerical features.\n",
    "2. **Group Transforms:** Groups transforms aggregate information across multiple rows grouped by some category.\n",
    "\n",
    "\n",
    "Features I'm thinking about:\n",
    "\n",
    "* Price per land square feet\n",
    "* Price per gross square feet\n",
    "* Median sale price per neighboorhood\n",
    "* Median sale price per borough\n",
    "* Median sale price per zipcode\n"
   ]
  },
  {
   "cell_type": "code",
   "execution_count": 11,
   "metadata": {
    "executionInfo": {
     "elapsed": 842,
     "status": "ok",
     "timestamp": 1618576969352,
     "user": {
      "displayName": "Milan Patty",
      "photoUrl": "https://lh5.googleusercontent.com/-49abHFgA8WA/AAAAAAAAAAI/AAAAAAAAcec/0-aejkLTAzs/s64/photo.jpg",
      "userId": "07657054432866429697"
     },
     "user_tz": -120
    },
    "id": "0Gett5zA7ydp"
   },
   "outputs": [],
   "source": [
    "# Creating a new data frame for feature engineering\n",
    "fe = merged.copy()\n",
    "\n",
    "# Mathematical transformation\n",
    "fe['PRICE PER LAND SQFT'] = fe['SALE PRICE'] / fe['LAND SQUARE FEET'] # Ratio price per land square feet\n",
    "fe['PRICE PER GROSS SQFT'] = fe['SALE PRICE'] / fe['GROSS SQUARE FEET'] # Ratio per gross square feet\n",
    "\n",
    "# Group Transforms\n",
    "fe['MEDIAN SALE PRICE NEIGHBORHOOD'] = fe.groupby('NEIGHBORHOOD')['SALE PRICE'].transform('median') # Median sale price per neighborhood\n",
    "fe['MEDIAN SALE PRICE BOROUGH'] = fe.groupby('BOROUGH')['SALE PRICE'].transform('median') # Median sale price per borough\n",
    "fe['MEDIAN SALE PRICE ZIP CODE'] = fe.groupby('ZIP CODE')['SALE PRICE'].transform('median') # Median sale price per zipcode"
   ]
  },
  {
   "cell_type": "code",
   "execution_count": 12,
   "metadata": {
    "colab": {
     "base_uri": "https://localhost:8080/"
    },
    "executionInfo": {
     "elapsed": 911,
     "status": "ok",
     "timestamp": 1618576970953,
     "user": {
      "displayName": "Milan Patty",
      "photoUrl": "https://lh5.googleusercontent.com/-49abHFgA8WA/AAAAAAAAAAI/AAAAAAAAcec/0-aejkLTAzs/s64/photo.jpg",
      "userId": "07657054432866429697"
     },
     "user_tz": -120
    },
    "id": "Ehj-BAxZoL_5",
    "outputId": "3df02b10-f472-4290-ac8a-e840de973d22"
   },
   "outputs": [
    {
     "name": "stdout",
     "output_type": "stream",
     "text": [
      "<class 'pandas.core.frame.DataFrame'>\n",
      "RangeIndex: 41070 entries, 0 to 41069\n",
      "Data columns (total 32 columns):\n",
      " #   Column                          Non-Null Count  Dtype  \n",
      "---  ------                          --------------  -----  \n",
      " 0   BOROUGH                         41070 non-null  int64  \n",
      " 1   NEIGHBORHOOD                    41070 non-null  object \n",
      " 2   BUILDING CLASS CATEGORY         41070 non-null  object \n",
      " 3   TAX CLASS AT PRESENT            41070 non-null  object \n",
      " 4   BUILDING CLASS AT PRESENT       41070 non-null  object \n",
      " 5   ADDRESS                         41070 non-null  object \n",
      " 6   ZIP CODE                        41070 non-null  int64  \n",
      " 7   RESIDENTIAL UNITS               41070 non-null  int64  \n",
      " 8   COMMERCIAL UNITS                41070 non-null  int64  \n",
      " 9   TOTAL UNITS                     41070 non-null  int64  \n",
      " 10  LAND SQUARE FEET                25313 non-null  float64\n",
      " 11  GROSS SQUARE FEET               25180 non-null  float64\n",
      " 12  YEAR BUILT                      41070 non-null  int64  \n",
      " 13  TAX CLASS AT TIME OF SALE       41070 non-null  int64  \n",
      " 14  BUILDING CLASS AT TIME OF SALE  41070 non-null  object \n",
      " 15  SALE PRICE                      41070 non-null  float64\n",
      " 16  TotalPop                        41070 non-null  int64  \n",
      " 17  Men                             41070 non-null  int64  \n",
      " 18  Women                           41070 non-null  int64  \n",
      " 19  no_hispanic                     41070 non-null  float64\n",
      " 20  no_white                        41070 non-null  float64\n",
      " 21  no_black                        41070 non-null  float64\n",
      " 22  no_native                       41070 non-null  float64\n",
      " 23  no_asian                        41070 non-null  float64\n",
      " 24  no_unemployed                   41070 non-null  float64\n",
      " 25  no_poverty                      41070 non-null  float64\n",
      " 26  median_income                   41070 non-null  float64\n",
      " 27  PRICE PER LAND SQFT             25313 non-null  float64\n",
      " 28  PRICE PER GROSS SQFT            25180 non-null  float64\n",
      " 29  MEDIAN SALE PRICE NEIGHBORHOOD  41070 non-null  float64\n",
      " 30  MEDIAN SALE PRICE BOROUGH       41070 non-null  float64\n",
      " 31  MEDIAN SALE PRICE ZIP CODE      41070 non-null  float64\n",
      "dtypes: float64(16), int64(10), object(6)\n",
      "memory usage: 10.0+ MB\n"
     ]
    }
   ],
   "source": [
    "fe.info()"
   ]
  },
  {
   "cell_type": "markdown",
   "metadata": {
    "id": "KhGQsItRYDNX"
   },
   "source": [
    "#### **Modelling again**"
   ]
  },
  {
   "cell_type": "code",
   "execution_count": 13,
   "metadata": {
    "executionInfo": {
     "elapsed": 858,
     "status": "ok",
     "timestamp": 1618579477975,
     "user": {
      "displayName": "Milan Patty",
      "photoUrl": "https://lh5.googleusercontent.com/-49abHFgA8WA/AAAAAAAAAAI/AAAAAAAAcec/0-aejkLTAzs/s64/photo.jpg",
      "userId": "07657054432866429697"
     },
     "user_tz": -120
    },
    "id": "1yHWL-jAYm_V"
   },
   "outputs": [],
   "source": [
    "# Creating a copy of the dataframe\n",
    "fe_copy = fe.copy()\n",
    "# Splitting the data into X &y\n",
    "X = fe_copy.drop(['ADDRESS', 'SALE PRICE'], axis=1) # Dropping some irrelevant columns and the target\n",
    "y = fe_copy['SALE PRICE']"
   ]
  },
  {
   "cell_type": "code",
   "execution_count": 14,
   "metadata": {
    "executionInfo": {
     "elapsed": 500,
     "status": "ok",
     "timestamp": 1618579477976,
     "user": {
      "displayName": "Milan Patty",
      "photoUrl": "https://lh5.googleusercontent.com/-49abHFgA8WA/AAAAAAAAAAI/AAAAAAAAcec/0-aejkLTAzs/s64/photo.jpg",
      "userId": "07657054432866429697"
     },
     "user_tz": -120
    },
    "id": "texrCsqMbXE3"
   },
   "outputs": [],
   "source": [
    "X_train, X_test, y_train, y_test = train_test_split(X, y, test_size=0.15, random_state=1) # 15% for test data\n",
    "\n",
    "X_train, X_val, y_train, y_val = train_test_split(X_train, y_train, test_size=0.175, random_state=1) # ~15% for validation data\n"
   ]
  },
  {
   "cell_type": "code",
   "execution_count": 15,
   "metadata": {
    "executionInfo": {
     "elapsed": 325,
     "status": "ok",
     "timestamp": 1618579478278,
     "user": {
      "displayName": "Milan Patty",
      "photoUrl": "https://lh5.googleusercontent.com/-49abHFgA8WA/AAAAAAAAAAI/AAAAAAAAcec/0-aejkLTAzs/s64/photo.jpg",
      "userId": "07657054432866429697"
     },
     "user_tz": -120
    },
    "id": "CdD8ahoHnfyU"
   },
   "outputs": [],
   "source": [
    "# Selecting categorical columns\n",
    "categorical_cols = [cname for cname in X_train.columns if X_train[cname].dtype == \"object\"]\n",
    "\n",
    "# Select numerical columns\n",
    "numerical_cols = [cname for cname in X_train.columns if X_train[cname].dtype in ['int64', 'float64']]\n",
    "\n",
    "# Keep selected columns only\n",
    "my_cols = categorical_cols + numerical_cols\n",
    "X_train = X_train[my_cols].copy()\n",
    "X_val = X_val[my_cols].copy()\n",
    "X_test = X_test[my_cols].copy()"
   ]
  },
  {
   "cell_type": "code",
   "execution_count": 16,
   "metadata": {
    "executionInfo": {
     "elapsed": 849,
     "status": "ok",
     "timestamp": 1618579479831,
     "user": {
      "displayName": "Milan Patty",
      "photoUrl": "https://lh5.googleusercontent.com/-49abHFgA8WA/AAAAAAAAAAI/AAAAAAAAcec/0-aejkLTAzs/s64/photo.jpg",
      "userId": "07657054432866429697"
     },
     "user_tz": -120
    },
    "id": "h28LB7jlqb47"
   },
   "outputs": [],
   "source": [
    "# Preprocessing the numerical data\n",
    "numerical_transformer = SimpleImputer(strategy='median')\n",
    "\n",
    "# Preprocessing the categorical data\n",
    "categorical_transformer = Pipeline(steps=[\n",
    "  ('onehot', OneHotEncoder(handle_unknown='ignore'))\n",
    "])\n",
    "\n",
    "# Bundle the preprocessing steps using ColumnTransformer\n",
    "preprocessor = ColumnTransformer(\n",
    "    transformers=[\n",
    "        ('num', numerical_transformer, numerical_cols),\n",
    "        ('cat', categorical_transformer, categorical_cols)\n",
    "    ])"
   ]
  },
  {
   "cell_type": "code",
   "execution_count": 17,
   "metadata": {
    "executionInfo": {
     "elapsed": 329,
     "status": "ok",
     "timestamp": 1618579480131,
     "user": {
      "displayName": "Milan Patty",
      "photoUrl": "https://lh5.googleusercontent.com/-49abHFgA8WA/AAAAAAAAAAI/AAAAAAAAcec/0-aejkLTAzs/s64/photo.jpg",
      "userId": "07657054432866429697"
     },
     "user_tz": -120
    },
    "id": "k07zpgpjLsMT"
   },
   "outputs": [],
   "source": [
    "def show_scores(model):\n",
    "  # Bundle the transformer and the model together\n",
    "  my_pipeline = Pipeline(steps=[('preprocessor', preprocessor),\n",
    "                      ('model', model)\n",
    "                     ])\n",
    "  # Fitting the data\n",
    "  my_pipeline.fit(X_train, y_train)\n",
    "\n",
    "  # Creating predictions for both train and test\n",
    "  train_preds = my_pipeline.predict(X_train)\n",
    "  val_preds = my_pipeline.predict(X_val)\n",
    "\n",
    "  # Use the metrics to evaluate on train and test\n",
    "  scores = {'Training MAE': mean_absolute_error(y_train, train_preds),\n",
    "            'Validation MAE': mean_absolute_error(y_val, val_preds),\n",
    "            'Training MSE': mean_squared_error(y_train, train_preds),\n",
    "            'Validation MSE': mean_squared_error(y_val, val_preds),\n",
    "            'Training R2': r2_score(y_train, train_preds),\n",
    "            'Validation R2': r2_score(y_val, val_preds)}\n",
    "  \n",
    "  sns.scatterplot(y_val, val_preds)\n",
    "  #sns.distplot((y_val - val_preds))\n",
    "\n",
    "  return scores"
   ]
  },
  {
   "cell_type": "code",
   "execution_count": 18,
   "metadata": {
    "colab": {
     "base_uri": "https://localhost:8080/",
     "height": 324
    },
    "executionInfo": {
     "elapsed": 316145,
     "status": "ok",
     "timestamp": 1618579797763,
     "user": {
      "displayName": "Milan Patty",
      "photoUrl": "https://lh5.googleusercontent.com/-49abHFgA8WA/AAAAAAAAAAI/AAAAAAAAcec/0-aejkLTAzs/s64/photo.jpg",
      "userId": "07657054432866429697"
     },
     "user_tz": -120
    },
    "id": "uojljJOlngyS",
    "outputId": "f8804370-c6f8-4247-dc0c-c5d7d7f0fc5e"
   },
   "outputs": [
    {
     "name": "stdout",
     "output_type": "stream",
     "text": [
      "CPU times: user 4min 11s, sys: 311 ms, total: 4min 11s\n",
      "Wall time: 4min 11s\n"
     ]
    },
    {
     "data": {
      "image/png": "[encoded data removed]",
      "text/plain": [
       "<Figure size 432x288 with 1 Axes>"
      ]
     },
     "metadata": {},
     "output_type": "display_data"
    }
   ],
   "source": [
    "%%time\n",
    "model2 = show_scores(RandomForestRegressor(random_state=1))"
   ]
  },
  {
   "cell_type": "markdown",
   "metadata": {
    "id": "HbVqQfbRNyJ8"
   },
   "source": [
    "## **4. Compare results**\n",
    "To compare the results, I'm taking a look at the performance on the validation data. The reason for doing this is because my model hasn't seen this data and  which is very important to create reliable results on data it hasn't seen before."
   ]
  },
  {
   "cell_type": "code",
   "execution_count": 19,
   "metadata": {
    "colab": {
     "base_uri": "https://localhost:8080/"
    },
    "executionInfo": {
     "elapsed": 782,
     "status": "ok",
     "timestamp": 1618579866846,
     "user": {
      "displayName": "Milan Patty",
      "photoUrl": "https://lh5.googleusercontent.com/-49abHFgA8WA/AAAAAAAAAAI/AAAAAAAAcec/0-aejkLTAzs/s64/photo.jpg",
      "userId": "07657054432866429697"
     },
     "user_tz": -120
    },
    "id": "4uuVLlpC1ui5",
    "outputId": "dc397d89-3e88-4983-c900-733843941e5b"
   },
   "outputs": [
    {
     "name": "stdout",
     "output_type": "stream",
     "text": [
      "{'Training MAE': 101926.81705020854, 'Validation MAE': 175843.14462567272, 'Training MSE': 28848468452.54844, 'Validation MSE': 72489749221.75926, 'Training R2': 0.8338021883629976, 'Validation R2': 0.5892693590084508}\n",
      "{'Training MAE': 64690.59552603898, 'Validation MAE': 83436.30842574796, 'Training MSE': 23153165812.83331, 'Validation MSE': 38460811832.98338, 'Training R2': 0.8666131792441263, 'Validation R2': 0.7820790654290907}\n"
     ]
    }
   ],
   "source": [
    "print(model1)\n",
    "print(model2)"
   ]
  },
  {
   "cell_type": "markdown",
   "metadata": {
    "id": "B1TytGj02pOd"
   },
   "source": [
    "As you can see, the results are very different. The first model that received the normal data without the extra features and performed much worse in comparison with the model that got the extra features. Due feature engineering, the R2 on model 2 improved almost with 20%. The MAE on the validation set from model 2 improved also a lot with 48% which is ~ $92.400,00 .\n",
    "\n",
    "One last thing I would like to see if which features were imporant and decisive. I'm using a the library eli5 to figure that out. Because I trained my models normally in the function above, I have to use some code outside the function before I can look into the feature importance."
   ]
  },
  {
   "cell_type": "code",
   "execution_count": 20,
   "metadata": {
    "colab": {
     "base_uri": "https://localhost:8080/"
    },
    "executionInfo": {
     "elapsed": 311981,
     "status": "ok",
     "timestamp": 1618581007122,
     "user": {
      "displayName": "Milan Patty",
      "photoUrl": "https://lh5.googleusercontent.com/-49abHFgA8WA/AAAAAAAAAAI/AAAAAAAAcec/0-aejkLTAzs/s64/photo.jpg",
      "userId": "07657054432866429697"
     },
     "user_tz": -120
    },
    "id": "KIVQR47f7OT0",
    "outputId": "3a784a1b-69b9-4e2e-8945-d471a0cc5743"
   },
   "outputs": [
    {
     "data": {
      "text/plain": [
       "Pipeline(memory=None,\n",
       "         steps=[('preprocessor',\n",
       "                 ColumnTransformer(n_jobs=None, remainder='drop',\n",
       "                                   sparse_threshold=0.3,\n",
       "                                   transformer_weights=None,\n",
       "                                   transformers=[('num',\n",
       "                                                  SimpleImputer(add_indicator=False,\n",
       "                                                                copy=True,\n",
       "                                                                fill_value=None,\n",
       "                                                                missing_values=nan,\n",
       "                                                                strategy='median',\n",
       "                                                                verbose=0),\n",
       "                                                  ['BOROUGH', 'ZIP CODE',\n",
       "                                                   'RESIDENTIAL UNITS',\n",
       "                                                   'COMMERCIAL UNITS',\n",
       "                                                   'TOTAL UNITS',\n",
       "                                                   'LAND SQUARE FE...\n",
       "                 RandomForestRegressor(bootstrap=True, ccp_alpha=0.0,\n",
       "                                       criterion='mse', max_depth=None,\n",
       "                                       max_features='auto', max_leaf_nodes=None,\n",
       "                                       max_samples=None,\n",
       "                                       min_impurity_decrease=0.0,\n",
       "                                       min_impurity_split=None,\n",
       "                                       min_samples_leaf=1, min_samples_split=2,\n",
       "                                       min_weight_fraction_leaf=0.0,\n",
       "                                       n_estimators=100, n_jobs=None,\n",
       "                                       oob_score=False, random_state=1,\n",
       "                                       verbose=0, warm_start=False))],\n",
       "         verbose=False)"
      ]
     },
     "execution_count": 20,
     "metadata": {},
     "output_type": "execute_result"
    }
   ],
   "source": [
    "my_pipeline = Pipeline(steps=[('preprocessor', preprocessor),\n",
    "                      ('model', RandomForestRegressor(random_state=1))\n",
    "                     ])\n",
    "# Fitting the data\n",
    "my_pipeline.fit(X_train, y_train)"
   ]
  },
  {
   "cell_type": "code",
   "execution_count": 27,
   "metadata": {
    "executionInfo": {
     "elapsed": 2263,
     "status": "ok",
     "timestamp": 1618582351562,
     "user": {
      "displayName": "Milan Patty",
      "photoUrl": "https://lh5.googleusercontent.com/-49abHFgA8WA/AAAAAAAAAAI/AAAAAAAAcec/0-aejkLTAzs/s64/photo.jpg",
      "userId": "07657054432866429697"
     },
     "user_tz": -120
    },
    "id": "hZkio0PSBmhp"
   },
   "outputs": [],
   "source": [
    "# Importing library for feature Importance\n",
    "import eli5"
   ]
  },
  {
   "cell_type": "code",
   "execution_count": 28,
   "metadata": {
    "executionInfo": {
     "elapsed": 1179,
     "status": "ok",
     "timestamp": 1618582240524,
     "user": {
      "displayName": "Milan Patty",
      "photoUrl": "https://lh5.googleusercontent.com/-49abHFgA8WA/AAAAAAAAAAI/AAAAAAAAcec/0-aejkLTAzs/s64/photo.jpg",
      "userId": "07657054432866429697"
     },
     "user_tz": -120
    },
    "id": "AuX7fD9kBOHp"
   },
   "outputs": [],
   "source": [
    "# Creating a list with the columns from the onehot encoder\n",
    "onehot_cols = my_pipeline['preprocessor'].transformers_[1][1]['onehot']\\\n",
    "                   .get_feature_names(categorical_cols)"
   ]
  },
  {
   "cell_type": "code",
   "execution_count": 29,
   "metadata": {
    "colab": {
     "base_uri": "https://localhost:8080/",
     "height": 221
    },
    "executionInfo": {
     "elapsed": 626,
     "status": "ok",
     "timestamp": 1618583795518,
     "user": {
      "displayName": "Milan Patty",
      "photoUrl": "https://lh5.googleusercontent.com/-49abHFgA8WA/AAAAAAAAAAI/AAAAAAAAcec/0-aejkLTAzs/s64/photo.jpg",
      "userId": "07657054432866429697"
     },
     "user_tz": -120
    },
    "id": "KCIXj61r7Bse",
    "outputId": "9084f22e-6784-42ec-a140-1a323c683dc9"
   },
   "outputs": [
    {
     "data": {
      "text/html": [
       "\n",
       "    <style>\n",
       "    table.eli5-weights tr:hover {\n",
       "        filter: brightness(85%);\n",
       "    }\n",
       "</style>\n",
       "\n",
       "\n",
       "\n",
       "    \n",
       "\n",
       "    \n",
       "\n",
       "    \n",
       "\n",
       "    \n",
       "\n",
       "    \n",
       "\n",
       "    \n",
       "\n",
       "\n",
       "    \n",
       "\n",
       "    \n",
       "\n",
       "    \n",
       "\n",
       "    \n",
       "\n",
       "    \n",
       "\n",
       "    \n",
       "\n",
       "\n",
       "    \n",
       "\n",
       "    \n",
       "\n",
       "    \n",
       "\n",
       "    \n",
       "\n",
       "    \n",
       "        <table class=\"eli5-weights eli5-feature-importances\" style=\"border-collapse: collapse; border: none; margin-top: 0em; table-layout: auto;\">\n",
       "    <thead>\n",
       "    <tr style=\"border: none;\">\n",
       "        <th style=\"padding: 0 1em 0 0.5em; text-align: right; border: none;\">Weight</th>\n",
       "        <th style=\"padding: 0 0.5em 0 0.5em; text-align: left; border: none;\">Feature</th>\n",
       "    </tr>\n",
       "    </thead>\n",
       "    <tbody>\n",
       "    \n",
       "        <tr style=\"background-color: hsl(120, 100.00%, 80.00%); border: none;\">\n",
       "            <td style=\"padding: 0 1em 0 0.5em; text-align: right; border: none;\">\n",
       "                0.2965\n",
       "                \n",
       "                    &plusmn; 0.1542\n",
       "                \n",
       "            </td>\n",
       "            <td style=\"padding: 0 0.5em 0 0.5em; text-align: left; border: none;\">\n",
       "                MEDIAN<span style=\"background-color: hsl(120, 80%, 70%); margin: 0 0.1em 0 0.1em\" title=\"A space symbol\">&emsp;</span>SALE<span style=\"background-color: hsl(120, 80%, 70%); margin: 0 0.1em 0 0.1em\" title=\"A space symbol\">&emsp;</span>PRICE<span style=\"background-color: hsl(120, 80%, 70%); margin: 0 0.1em 0 0.1em\" title=\"A space symbol\">&emsp;</span>NEIGHBORHOOD\n",
       "            </td>\n",
       "        </tr>\n",
       "    \n",
       "        <tr style=\"background-color: hsl(120, 100.00%, 82.02%); border: none;\">\n",
       "            <td style=\"padding: 0 1em 0 0.5em; text-align: right; border: none;\">\n",
       "                0.2546\n",
       "                \n",
       "                    &plusmn; 0.0316\n",
       "                \n",
       "            </td>\n",
       "            <td style=\"padding: 0 0.5em 0 0.5em; text-align: left; border: none;\">\n",
       "                PRICE<span style=\"background-color: hsl(120, 80%, 70%); margin: 0 0.1em 0 0.1em\" title=\"A space symbol\">&emsp;</span>PER<span style=\"background-color: hsl(120, 80%, 70%); margin: 0 0.1em 0 0.1em\" title=\"A space symbol\">&emsp;</span>LAND<span style=\"background-color: hsl(120, 80%, 70%); margin: 0 0.1em 0 0.1em\" title=\"A space symbol\">&emsp;</span>SQFT\n",
       "            </td>\n",
       "        </tr>\n",
       "    \n",
       "        <tr style=\"background-color: hsl(120, 100.00%, 87.47%); border: none;\">\n",
       "            <td style=\"padding: 0 1em 0 0.5em; text-align: right; border: none;\">\n",
       "                0.1520\n",
       "                \n",
       "                    &plusmn; 0.0182\n",
       "                \n",
       "            </td>\n",
       "            <td style=\"padding: 0 0.5em 0 0.5em; text-align: left; border: none;\">\n",
       "                LAND<span style=\"background-color: hsl(120, 80%, 70%); margin: 0 0.1em 0 0.1em\" title=\"A space symbol\">&emsp;</span>SQUARE<span style=\"background-color: hsl(120, 80%, 70%); margin: 0 0.1em 0 0.1em\" title=\"A space symbol\">&emsp;</span>FEET\n",
       "            </td>\n",
       "        </tr>\n",
       "    \n",
       "        <tr style=\"background-color: hsl(120, 100.00%, 92.22%); border: none;\">\n",
       "            <td style=\"padding: 0 1em 0 0.5em; text-align: right; border: none;\">\n",
       "                0.0770\n",
       "                \n",
       "                    &plusmn; 0.0073\n",
       "                \n",
       "            </td>\n",
       "            <td style=\"padding: 0 0.5em 0 0.5em; text-align: left; border: none;\">\n",
       "                YEAR<span style=\"background-color: hsl(120, 80%, 70%); margin: 0 0.1em 0 0.1em\" title=\"A space symbol\">&emsp;</span>BUILT\n",
       "            </td>\n",
       "        </tr>\n",
       "    \n",
       "        <tr style=\"background-color: hsl(120, 100.00%, 93.01%); border: none;\">\n",
       "            <td style=\"padding: 0 1em 0 0.5em; text-align: right; border: none;\">\n",
       "                0.0660\n",
       "                \n",
       "                    &plusmn; 0.1434\n",
       "                \n",
       "            </td>\n",
       "            <td style=\"padding: 0 0.5em 0 0.5em; text-align: left; border: none;\">\n",
       "                MEDIAN<span style=\"background-color: hsl(120, 80%, 70%); margin: 0 0.1em 0 0.1em\" title=\"A space symbol\">&emsp;</span>SALE<span style=\"background-color: hsl(120, 80%, 70%); margin: 0 0.1em 0 0.1em\" title=\"A space symbol\">&emsp;</span>PRICE<span style=\"background-color: hsl(120, 80%, 70%); margin: 0 0.1em 0 0.1em\" title=\"A space symbol\">&emsp;</span>ZIP<span style=\"background-color: hsl(120, 80%, 70%); margin: 0 0.1em 0 0.1em\" title=\"A space symbol\">&emsp;</span>CODE\n",
       "            </td>\n",
       "        </tr>\n",
       "    \n",
       "        <tr style=\"background-color: hsl(120, 100.00%, 96.09%); border: none;\">\n",
       "            <td style=\"padding: 0 1em 0 0.5em; text-align: right; border: none;\">\n",
       "                0.0288\n",
       "                \n",
       "                    &plusmn; 0.0119\n",
       "                \n",
       "            </td>\n",
       "            <td style=\"padding: 0 0.5em 0 0.5em; text-align: left; border: none;\">\n",
       "                ZIP<span style=\"background-color: hsl(120, 80%, 70%); margin: 0 0.1em 0 0.1em\" title=\"A space symbol\">&emsp;</span>CODE\n",
       "            </td>\n",
       "        </tr>\n",
       "    \n",
       "        <tr style=\"background-color: hsl(120, 100.00%, 97.54%); border: none;\">\n",
       "            <td style=\"padding: 0 1em 0 0.5em; text-align: right; border: none;\">\n",
       "                0.0149\n",
       "                \n",
       "                    &plusmn; 0.0178\n",
       "                \n",
       "            </td>\n",
       "            <td style=\"padding: 0 0.5em 0 0.5em; text-align: left; border: none;\">\n",
       "                TOTAL<span style=\"background-color: hsl(120, 80%, 70%); margin: 0 0.1em 0 0.1em\" title=\"A space symbol\">&emsp;</span>UNITS\n",
       "            </td>\n",
       "        </tr>\n",
       "    \n",
       "        <tr style=\"background-color: hsl(120, 100.00%, 97.57%); border: none;\">\n",
       "            <td style=\"padding: 0 1em 0 0.5em; text-align: right; border: none;\">\n",
       "                0.0146\n",
       "                \n",
       "                    &plusmn; 0.0286\n",
       "                \n",
       "            </td>\n",
       "            <td style=\"padding: 0 0.5em 0 0.5em; text-align: left; border: none;\">\n",
       "                PRICE<span style=\"background-color: hsl(120, 80%, 70%); margin: 0 0.1em 0 0.1em\" title=\"A space symbol\">&emsp;</span>PER<span style=\"background-color: hsl(120, 80%, 70%); margin: 0 0.1em 0 0.1em\" title=\"A space symbol\">&emsp;</span>GROSS<span style=\"background-color: hsl(120, 80%, 70%); margin: 0 0.1em 0 0.1em\" title=\"A space symbol\">&emsp;</span>SQFT\n",
       "            </td>\n",
       "        </tr>\n",
       "    \n",
       "        <tr style=\"background-color: hsl(120, 100.00%, 98.13%); border: none;\">\n",
       "            <td style=\"padding: 0 1em 0 0.5em; text-align: right; border: none;\">\n",
       "                0.0100\n",
       "                \n",
       "                    &plusmn; 0.0272\n",
       "                \n",
       "            </td>\n",
       "            <td style=\"padding: 0 0.5em 0 0.5em; text-align: left; border: none;\">\n",
       "                BUILDING<span style=\"background-color: hsl(120, 80%, 70%); margin: 0 0.1em 0 0.1em\" title=\"A space symbol\">&emsp;</span>CLASS<span style=\"background-color: hsl(120, 80%, 70%); margin: 0 0.1em 0 0.1em\" title=\"A space symbol\">&emsp;</span>AT<span style=\"background-color: hsl(120, 80%, 70%); margin: 0 0.1em 0 0.1em\" title=\"A space symbol\">&emsp;</span>TIME<span style=\"background-color: hsl(120, 80%, 70%); margin: 0 0.1em 0 0.1em\" title=\"A space symbol\">&emsp;</span>OF<span style=\"background-color: hsl(120, 80%, 70%); margin: 0 0.1em 0 0.1em\" title=\"A space symbol\">&emsp;</span>SALE_R4\n",
       "            </td>\n",
       "        </tr>\n",
       "    \n",
       "        <tr style=\"background-color: hsl(120, 100.00%, 98.22%); border: none;\">\n",
       "            <td style=\"padding: 0 1em 0 0.5em; text-align: right; border: none;\">\n",
       "                0.0093\n",
       "                \n",
       "                    &plusmn; 0.0267\n",
       "                \n",
       "            </td>\n",
       "            <td style=\"padding: 0 0.5em 0 0.5em; text-align: left; border: none;\">\n",
       "                BUILDING<span style=\"background-color: hsl(120, 80%, 70%); margin: 0 0.1em 0 0.1em\" title=\"A space symbol\">&emsp;</span>CLASS<span style=\"background-color: hsl(120, 80%, 70%); margin: 0 0.1em 0 0.1em\" title=\"A space symbol\">&emsp;</span>CATEGORY_13<span style=\"background-color: hsl(120, 80%, 70%); margin: 0 0.1em 0 0.1em\" title=\"A space symbol\">&emsp;</span>CONDOS<span style=\"background-color: hsl(120, 80%, 70%); margin: 0 0.1em 0 0.1em\" title=\"A space symbol\">&emsp;</span>-<span style=\"background-color: hsl(120, 80%, 70%); margin: 0 0.1em 0 0.1em\" title=\"A space symbol\">&emsp;</span>ELEVATOR<span style=\"background-color: hsl(120, 80%, 70%); margin: 0 0.1em 0 0.1em\" title=\"A space symbol\">&emsp;</span>APARTMENTS<span style=\"background-color: hsl(120, 80%, 70%); margin: 0 0 0 0.1em\" title=\"12 space symbols\">&emsp;&emsp;&emsp;&emsp;&emsp;&emsp;&emsp;&emsp;&emsp;&emsp;&emsp;&emsp;</span>\n",
       "            </td>\n",
       "        </tr>\n",
       "    \n",
       "    \n",
       "        \n",
       "            <tr style=\"background-color: hsl(120, 100.00%, 98.22%); border: none;\">\n",
       "                <td colspan=\"2\" style=\"padding: 0 0.5em 0 0.5em; text-align: center; border: none; white-space: nowrap;\">\n",
       "                    <i>&hellip; 482 more &hellip;</i>\n",
       "                </td>\n",
       "            </tr>\n",
       "        \n",
       "    \n",
       "    </tbody>\n",
       "</table>\n",
       "    \n",
       "\n",
       "    \n",
       "\n",
       "\n",
       "    \n",
       "\n",
       "    \n",
       "\n",
       "    \n",
       "\n",
       "    \n",
       "\n",
       "    \n",
       "\n",
       "    \n",
       "\n",
       "\n",
       "\n"
      ],
      "text/plain": [
       "Explanation(estimator=\"RandomForestRegressor(bootstrap=True, ccp_alpha=0.0, criterion='mse',\\n                      max_depth=None, max_features='auto', max_leaf_nodes=None,\\n                      max_samples=None, min_impurity_decrease=0.0,\\n                      min_impurity_split=None, min_samples_leaf=1,\\n                      min_samples_split=2, min_weight_fraction_leaf=0.0,\\n                      n_estimators=100, n_jobs=None, oob_score=False,\\n                      random_state=1, verbose=0, warm_start=False)\", description='\\nRandom forest feature importances; values are numbers 0 <= x <= 1;\\nall values sum to 1.\\n', error=None, method='feature importances', is_regression=True, targets=None, feature_importances=FeatureImportances(importances=[FeatureWeight(feature='MEDIAN SALE PRICE NEIGHBORHOOD', weight=0.2965350507972373, std=0.07708445930241413, value=None), FeatureWeight(feature='PRICE PER LAND SQFT', weight=0.2546225472501005, std=0.01579863249469556, value=None), FeatureWeight(feature='LAND SQUARE FEET', weight=0.15197886266159535, std=0.009079146621631996, value=None), FeatureWeight(feature='YEAR BUILT', weight=0.07702567653171277, std=0.0036455174157017426, value=None), FeatureWeight(feature='MEDIAN SALE PRICE ZIP CODE', weight=0.06604826306368942, std=0.0717218455143748, value=None), FeatureWeight(feature='ZIP CODE', weight=0.028849874332689884, std=0.005955993296150071, value=None), FeatureWeight(feature='TOTAL UNITS', weight=0.014880997248622116, std=0.008897555376208533, value=None), FeatureWeight(feature='PRICE PER GROSS SQFT', weight=0.014583510704661283, std=0.014284127895088301, value=None), FeatureWeight(feature='BUILDING CLASS AT TIME OF SALE_R4', weight=0.01003993703447153, std=0.013610970270643645, value=None), FeatureWeight(feature='BUILDING CLASS CATEGORY_13 CONDOS - ELEVATOR APARTMENTS            ', weight=0.00934914613288474, std=0.013367521076767037, value=None)], remaining=482), decision_tree=None, highlight_spaces=None, transition_features=None, image=None)"
      ]
     },
     "execution_count": 29,
     "metadata": {},
     "output_type": "execute_result"
    }
   ],
   "source": [
    "# Creating a list where I'm putting the features from the onehotencoder and numerical together\n",
    "numeric_features_list = list(numerical_cols)\n",
    "numeric_features_list.extend(onehot_cols)\n",
    "\n",
    "eli5.explain_weights(my_pipeline.named_steps['model'], top=10, feature_names=numeric_features_list)"
   ]
  },
  {
   "cell_type": "markdown",
   "metadata": {
    "id": "FDrt5MM2D5uD"
   },
   "source": [
    "As you can see, there are 3 features in the top 5 that were custom made by using feature engineering. The first one which was also made by doing feature engineering was the most relevant feature for predicting property prices in NYC. Overall in the top 10, 4 of those features were custom made. This was the end of my project, I hope you enjoyed it!"
   ]
  }
 ],
 "metadata": {
  "colab": {
   "authorship_tag": "ABX9TyPoxAQPeUzSgFYgiQlOBLZV",
   "collapsed_sections": [],
   "mount_file_id": "1mS1s_8UdX0ChrFtdb9EsP_0FHy6GLixb",
   "name": "Kopie van genuine_challenge_modelling.ipynb",
   "provenance": [
    {
     "file_id": "157rVWrDNlb3KFS6Wk-4qzIhFkAlDn0ov",
     "timestamp": 1618575129740
    }
   ],
   "toc_visible": true
  },
  "kernelspec": {
   "display_name": "Python 3",
   "language": "python",
   "name": "python3"
  },
  "language_info": {
   "codemirror_mode": {
    "name": "ipython",
    "version": 3
   },
   "file_extension": ".py",
   "mimetype": "text/x-python",
   "name": "python",
   "nbconvert_exporter": "python",
   "pygments_lexer": "ipython3",
   "version": "3.7.6"
  }
 },
 "nbformat": 4,
 "nbformat_minor": 4
}
