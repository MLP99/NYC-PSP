{
 "cells": [
  {
   "cell_type": "markdown",
   "metadata": {
    "id": "SZx2vkAiLKcu"
   },
   "source": [
    "# **NYC Property Sales Predictor (PSP) Data Preparation**\n",
    "\n",
    "## **Goal**\n",
    "For this entire project, I'm going to build a machine learning model that could predict the property sales price for properties in NYC. I'm dividing my project into the following sections:\n",
    "\n",
    "* **EDA**\n",
    "* **Data Preparation**\n",
    "* **Modelling**\n",
    "\n",
    "## **Project description**\n",
    "In this document I'm showing the steps I took to make my data ready for the modelling phase. I'm cleaning my data, removing outliers and merge my New York City property sales data set with the New York City census data set."
   ]
  },
  {
   "cell_type": "markdown",
   "metadata": {
    "id": "e4Riws-0MVAb"
   },
   "source": [
    "## **Importing Libraries**"
   ]
  },
  {
   "cell_type": "code",
   "execution_count": 1,
   "metadata": {
    "executionInfo": {
     "elapsed": 1590,
     "status": "ok",
     "timestamp": 1618566566624,
     "user": {
      "displayName": "Milan Patty",
      "photoUrl": "https://lh5.googleusercontent.com/-49abHFgA8WA/AAAAAAAAAAI/AAAAAAAAcec/0-aejkLTAzs/s64/photo.jpg",
      "userId": "07657054432866429697"
     },
     "user_tz": -120
    },
    "id": "GXFa3KZfMnr_"
   },
   "outputs": [],
   "source": [
    "import pandas as pd # Data manipulation\n",
    "import numpy as np # Scientific computing\n",
    "from numpy import percentile # For IQR\n",
    "\n",
    "import matplotlib.pyplot as plt # Data Visualization\n",
    "import seaborn as sns # Data Visualization\n",
    "\n",
    "sns.set(style='darkgrid', context='notebook', palette='deep') # Theme\n",
    "import matplotlib.style as style\n",
    "style.use('fivethirtyeight') # Theme\n",
    "import warnings; warnings.simplefilter('ignore') # Ignore warnings"
   ]
  },
  {
   "cell_type": "markdown",
   "metadata": {
    "id": "f-_G_3iYMn94"
   },
   "source": [
    "## **Importing Data**\n",
    "For this project I'm using my New York City Property Sales data set."
   ]
  },
  {
   "cell_type": "code",
   "execution_count": 2,
   "metadata": {
    "executionInfo": {
     "elapsed": 4657,
     "status": "ok",
     "timestamp": 1618566637460,
     "user": {
      "displayName": "Milan Patty",
      "photoUrl": "https://lh5.googleusercontent.com/-49abHFgA8WA/AAAAAAAAAAI/AAAAAAAAcec/0-aejkLTAzs/s64/photo.jpg",
      "userId": "07657054432866429697"
     },
     "user_tz": -120
    },
    "id": "RqA0avECMspY"
   },
   "outputs": [],
   "source": [
    "real_estate = pd.read_csv('data/nan_nyc_property_sales.csv')\n",
    "census_data = pd.read_csv('data/nyc_census_tracts.csv')\n",
    "\n",
    "# Creating copies\n",
    "ps = real_estate.copy() \n",
    "census = census_data.copy()"
   ]
  },
  {
   "cell_type": "markdown",
   "metadata": {
    "id": "8MoEISgONJ0X"
   },
   "source": [
    "# **Data Preparation Part**\n",
    "The data preparation part of this project includes the following steps:\n",
    "\n",
    "1. Basic data exploration\n",
    "2. Identification of variables and data types\n",
    "3. Data cleaning & removing outliers\n",
    "4. Adding a new data set and merge it"
   ]
  },
  {
   "cell_type": "markdown",
   "metadata": {
    "id": "FNozv88SNr5q"
   },
   "source": [
    "## **1. Basic data exploration**\n",
    "The basic data exploration includes the following pandas methods:\n",
    "1. `info()` for printing a summary about the columns and data types in the dataframe.\n",
    "2. `describe()` for showing statistical information about the nummerical values in the dataframe.\n",
    "3. `head()` for showing the first 5 rows in the dataframe."
   ]
  },
  {
   "cell_type": "code",
   "execution_count": 3,
   "metadata": {
    "colab": {
     "base_uri": "https://localhost:8080/"
    },
    "executionInfo": {
     "elapsed": 520,
     "status": "ok",
     "timestamp": 1618566644678,
     "user": {
      "displayName": "Milan Patty",
      "photoUrl": "https://lh5.googleusercontent.com/-49abHFgA8WA/AAAAAAAAAAI/AAAAAAAAcec/0-aejkLTAzs/s64/photo.jpg",
      "userId": "07657054432866429697"
     },
     "user_tz": -120
    },
    "id": "SPsXTxTJN0aF",
    "outputId": "4a54ac96-a0c6-4656-d8ce-9caeb1250cfc"
   },
   "outputs": [
    {
     "name": "stdout",
     "output_type": "stream",
     "text": [
      "<class 'pandas.core.frame.DataFrame'>\n",
      "RangeIndex: 84548 entries, 0 to 84547\n",
      "Data columns (total 21 columns):\n",
      " #   Column                          Non-Null Count  Dtype  \n",
      "---  ------                          --------------  -----  \n",
      " 0   BOROUGH                         84548 non-null  object \n",
      " 1   NEIGHBORHOOD                    84548 non-null  object \n",
      " 2   BUILDING CLASS CATEGORY         84548 non-null  object \n",
      " 3   TAX CLASS AT PRESENT            84548 non-null  object \n",
      " 4   BLOCK                           84548 non-null  int64  \n",
      " 5   LOT                             84548 non-null  int64  \n",
      " 6   EASE-MENT                       84548 non-null  object \n",
      " 7   BUILDING CLASS AT PRESENT       84548 non-null  object \n",
      " 8   ADDRESS                         84548 non-null  object \n",
      " 9   APARTMENT NUMBER                84548 non-null  object \n",
      " 10  ZIP CODE                        84548 non-null  int64  \n",
      " 11  RESIDENTIAL UNITS               84548 non-null  int64  \n",
      " 12  COMMERCIAL UNITS                84548 non-null  int64  \n",
      " 13  TOTAL UNITS                     84548 non-null  int64  \n",
      " 14  LAND SQUARE FEET                58296 non-null  float64\n",
      " 15  GROSS SQUARE FEET               56936 non-null  float64\n",
      " 16  YEAR BUILT                      84548 non-null  int64  \n",
      " 17  TAX CLASS AT TIME OF SALE       84548 non-null  int64  \n",
      " 18  BUILDING CLASS AT TIME OF SALE  84548 non-null  object \n",
      " 19  SALE PRICE                      69987 non-null  float64\n",
      " 20  SALE DATE                       84548 non-null  object \n",
      "dtypes: float64(3), int64(8), object(10)\n",
      "memory usage: 13.5+ MB\n"
     ]
    }
   ],
   "source": [
    "ps.info()"
   ]
  },
  {
   "cell_type": "code",
   "execution_count": 4,
   "metadata": {
    "colab": {
     "base_uri": "https://localhost:8080/",
     "height": 314
    },
    "executionInfo": {
     "elapsed": 612,
     "status": "ok",
     "timestamp": 1618566646457,
     "user": {
      "displayName": "Milan Patty",
      "photoUrl": "https://lh5.googleusercontent.com/-49abHFgA8WA/AAAAAAAAAAI/AAAAAAAAcec/0-aejkLTAzs/s64/photo.jpg",
      "userId": "07657054432866429697"
     },
     "user_tz": -120
    },
    "id": "z9Q_7VHJN2iM",
    "outputId": "7f33da5d-8079-4d85-8ba7-5e35b36c7a23"
   },
   "outputs": [
    {
     "data": {
      "text/html": [
       "<div>\n",
       "<style scoped>\n",
       "    .dataframe tbody tr th:only-of-type {\n",
       "        vertical-align: middle;\n",
       "    }\n",
       "\n",
       "    .dataframe tbody tr th {\n",
       "        vertical-align: top;\n",
       "    }\n",
       "\n",
       "    .dataframe thead th {\n",
       "        text-align: right;\n",
       "    }\n",
       "</style>\n",
       "<table border=\"1\" class=\"dataframe\">\n",
       "  <thead>\n",
       "    <tr style=\"text-align: right;\">\n",
       "      <th></th>\n",
       "      <th>BLOCK</th>\n",
       "      <th>LOT</th>\n",
       "      <th>ZIP CODE</th>\n",
       "      <th>RESIDENTIAL UNITS</th>\n",
       "      <th>COMMERCIAL UNITS</th>\n",
       "      <th>TOTAL UNITS</th>\n",
       "      <th>LAND SQUARE FEET</th>\n",
       "      <th>GROSS SQUARE FEET</th>\n",
       "      <th>YEAR BUILT</th>\n",
       "      <th>TAX CLASS AT TIME OF SALE</th>\n",
       "      <th>SALE PRICE</th>\n",
       "    </tr>\n",
       "  </thead>\n",
       "  <tbody>\n",
       "    <tr>\n",
       "      <th>count</th>\n",
       "      <td>84548.000000</td>\n",
       "      <td>84548.000000</td>\n",
       "      <td>84548.000000</td>\n",
       "      <td>84548.000000</td>\n",
       "      <td>84548.000000</td>\n",
       "      <td>84548.000000</td>\n",
       "      <td>5.829600e+04</td>\n",
       "      <td>5.693600e+04</td>\n",
       "      <td>84548.000000</td>\n",
       "      <td>84548.000000</td>\n",
       "      <td>6.998700e+04</td>\n",
       "    </tr>\n",
       "    <tr>\n",
       "      <th>mean</th>\n",
       "      <td>4237.218976</td>\n",
       "      <td>376.224015</td>\n",
       "      <td>10731.991614</td>\n",
       "      <td>2.025264</td>\n",
       "      <td>0.193559</td>\n",
       "      <td>2.249184</td>\n",
       "      <td>3.941676e+03</td>\n",
       "      <td>4.045707e+03</td>\n",
       "      <td>1789.322976</td>\n",
       "      <td>1.657485</td>\n",
       "      <td>1.276456e+06</td>\n",
       "    </tr>\n",
       "    <tr>\n",
       "      <th>std</th>\n",
       "      <td>3568.263407</td>\n",
       "      <td>658.136814</td>\n",
       "      <td>1290.879147</td>\n",
       "      <td>16.721037</td>\n",
       "      <td>8.713183</td>\n",
       "      <td>18.972584</td>\n",
       "      <td>4.198397e+04</td>\n",
       "      <td>3.503249e+04</td>\n",
       "      <td>537.344993</td>\n",
       "      <td>0.819341</td>\n",
       "      <td>1.140526e+07</td>\n",
       "    </tr>\n",
       "    <tr>\n",
       "      <th>min</th>\n",
       "      <td>1.000000</td>\n",
       "      <td>1.000000</td>\n",
       "      <td>0.000000</td>\n",
       "      <td>0.000000</td>\n",
       "      <td>0.000000</td>\n",
       "      <td>0.000000</td>\n",
       "      <td>0.000000e+00</td>\n",
       "      <td>0.000000e+00</td>\n",
       "      <td>0.000000</td>\n",
       "      <td>1.000000</td>\n",
       "      <td>0.000000e+00</td>\n",
       "    </tr>\n",
       "    <tr>\n",
       "      <th>25%</th>\n",
       "      <td>1322.750000</td>\n",
       "      <td>22.000000</td>\n",
       "      <td>10305.000000</td>\n",
       "      <td>0.000000</td>\n",
       "      <td>0.000000</td>\n",
       "      <td>1.000000</td>\n",
       "      <td>1.650000e+03</td>\n",
       "      <td>1.046750e+03</td>\n",
       "      <td>1920.000000</td>\n",
       "      <td>1.000000</td>\n",
       "      <td>2.250000e+05</td>\n",
       "    </tr>\n",
       "    <tr>\n",
       "      <th>50%</th>\n",
       "      <td>3311.000000</td>\n",
       "      <td>50.000000</td>\n",
       "      <td>11209.000000</td>\n",
       "      <td>1.000000</td>\n",
       "      <td>0.000000</td>\n",
       "      <td>1.000000</td>\n",
       "      <td>2.325000e+03</td>\n",
       "      <td>1.680000e+03</td>\n",
       "      <td>1940.000000</td>\n",
       "      <td>2.000000</td>\n",
       "      <td>5.300000e+05</td>\n",
       "    </tr>\n",
       "    <tr>\n",
       "      <th>75%</th>\n",
       "      <td>6281.000000</td>\n",
       "      <td>1001.000000</td>\n",
       "      <td>11357.000000</td>\n",
       "      <td>2.000000</td>\n",
       "      <td>0.000000</td>\n",
       "      <td>2.000000</td>\n",
       "      <td>3.500000e+03</td>\n",
       "      <td>2.560000e+03</td>\n",
       "      <td>1965.000000</td>\n",
       "      <td>2.000000</td>\n",
       "      <td>9.500000e+05</td>\n",
       "    </tr>\n",
       "    <tr>\n",
       "      <th>max</th>\n",
       "      <td>16322.000000</td>\n",
       "      <td>9106.000000</td>\n",
       "      <td>11694.000000</td>\n",
       "      <td>1844.000000</td>\n",
       "      <td>2261.000000</td>\n",
       "      <td>2261.000000</td>\n",
       "      <td>4.252327e+06</td>\n",
       "      <td>3.750565e+06</td>\n",
       "      <td>2017.000000</td>\n",
       "      <td>4.000000</td>\n",
       "      <td>2.210000e+09</td>\n",
       "    </tr>\n",
       "  </tbody>\n",
       "</table>\n",
       "</div>"
      ],
      "text/plain": [
       "              BLOCK           LOT      ZIP CODE  RESIDENTIAL UNITS  \\\n",
       "count  84548.000000  84548.000000  84548.000000       84548.000000   \n",
       "mean    4237.218976    376.224015  10731.991614           2.025264   \n",
       "std     3568.263407    658.136814   1290.879147          16.721037   \n",
       "min        1.000000      1.000000      0.000000           0.000000   \n",
       "25%     1322.750000     22.000000  10305.000000           0.000000   \n",
       "50%     3311.000000     50.000000  11209.000000           1.000000   \n",
       "75%     6281.000000   1001.000000  11357.000000           2.000000   \n",
       "max    16322.000000   9106.000000  11694.000000        1844.000000   \n",
       "\n",
       "       COMMERCIAL UNITS   TOTAL UNITS  LAND SQUARE FEET  GROSS SQUARE FEET  \\\n",
       "count      84548.000000  84548.000000      5.829600e+04       5.693600e+04   \n",
       "mean           0.193559      2.249184      3.941676e+03       4.045707e+03   \n",
       "std            8.713183     18.972584      4.198397e+04       3.503249e+04   \n",
       "min            0.000000      0.000000      0.000000e+00       0.000000e+00   \n",
       "25%            0.000000      1.000000      1.650000e+03       1.046750e+03   \n",
       "50%            0.000000      1.000000      2.325000e+03       1.680000e+03   \n",
       "75%            0.000000      2.000000      3.500000e+03       2.560000e+03   \n",
       "max         2261.000000   2261.000000      4.252327e+06       3.750565e+06   \n",
       "\n",
       "         YEAR BUILT  TAX CLASS AT TIME OF SALE    SALE PRICE  \n",
       "count  84548.000000               84548.000000  6.998700e+04  \n",
       "mean    1789.322976                   1.657485  1.276456e+06  \n",
       "std      537.344993                   0.819341  1.140526e+07  \n",
       "min        0.000000                   1.000000  0.000000e+00  \n",
       "25%     1920.000000                   1.000000  2.250000e+05  \n",
       "50%     1940.000000                   2.000000  5.300000e+05  \n",
       "75%     1965.000000                   2.000000  9.500000e+05  \n",
       "max     2017.000000                   4.000000  2.210000e+09  "
      ]
     },
     "execution_count": 4,
     "metadata": {},
     "output_type": "execute_result"
    }
   ],
   "source": [
    "ps.describe()"
   ]
  },
  {
   "cell_type": "code",
   "execution_count": 5,
   "metadata": {
    "colab": {
     "base_uri": "https://localhost:8080/",
     "height": 547
    },
    "executionInfo": {
     "elapsed": 762,
     "status": "ok",
     "timestamp": 1618566647845,
     "user": {
      "displayName": "Milan Patty",
      "photoUrl": "https://lh5.googleusercontent.com/-49abHFgA8WA/AAAAAAAAAAI/AAAAAAAAcec/0-aejkLTAzs/s64/photo.jpg",
      "userId": "07657054432866429697"
     },
     "user_tz": -120
    },
    "id": "wnum56TiN8mj",
    "outputId": "ffe3fe46-af25-4f14-cb7a-617cd2c38101"
   },
   "outputs": [
    {
     "data": {
      "text/html": [
       "<div>\n",
       "<style scoped>\n",
       "    .dataframe tbody tr th:only-of-type {\n",
       "        vertical-align: middle;\n",
       "    }\n",
       "\n",
       "    .dataframe tbody tr th {\n",
       "        vertical-align: top;\n",
       "    }\n",
       "\n",
       "    .dataframe thead th {\n",
       "        text-align: right;\n",
       "    }\n",
       "</style>\n",
       "<table border=\"1\" class=\"dataframe\">\n",
       "  <thead>\n",
       "    <tr style=\"text-align: right;\">\n",
       "      <th></th>\n",
       "      <th>BOROUGH</th>\n",
       "      <th>NEIGHBORHOOD</th>\n",
       "      <th>BUILDING CLASS CATEGORY</th>\n",
       "      <th>TAX CLASS AT PRESENT</th>\n",
       "      <th>BLOCK</th>\n",
       "      <th>LOT</th>\n",
       "      <th>EASE-MENT</th>\n",
       "      <th>BUILDING CLASS AT PRESENT</th>\n",
       "      <th>ADDRESS</th>\n",
       "      <th>APARTMENT NUMBER</th>\n",
       "      <th>...</th>\n",
       "      <th>RESIDENTIAL UNITS</th>\n",
       "      <th>COMMERCIAL UNITS</th>\n",
       "      <th>TOTAL UNITS</th>\n",
       "      <th>LAND SQUARE FEET</th>\n",
       "      <th>GROSS SQUARE FEET</th>\n",
       "      <th>YEAR BUILT</th>\n",
       "      <th>TAX CLASS AT TIME OF SALE</th>\n",
       "      <th>BUILDING CLASS AT TIME OF SALE</th>\n",
       "      <th>SALE PRICE</th>\n",
       "      <th>SALE DATE</th>\n",
       "    </tr>\n",
       "  </thead>\n",
       "  <tbody>\n",
       "    <tr>\n",
       "      <th>0</th>\n",
       "      <td>Manhattan</td>\n",
       "      <td>ALPHABET CITY</td>\n",
       "      <td>07 RENTALS - WALKUP APARTMENTS</td>\n",
       "      <td>2A</td>\n",
       "      <td>392</td>\n",
       "      <td>6</td>\n",
       "      <td></td>\n",
       "      <td>C2</td>\n",
       "      <td>153 AVENUE B</td>\n",
       "      <td></td>\n",
       "      <td>...</td>\n",
       "      <td>5</td>\n",
       "      <td>0</td>\n",
       "      <td>5</td>\n",
       "      <td>1633.0</td>\n",
       "      <td>6440.0</td>\n",
       "      <td>1900</td>\n",
       "      <td>2</td>\n",
       "      <td>C2</td>\n",
       "      <td>6625000.0</td>\n",
       "      <td>2017-07-19</td>\n",
       "    </tr>\n",
       "    <tr>\n",
       "      <th>1</th>\n",
       "      <td>Manhattan</td>\n",
       "      <td>ALPHABET CITY</td>\n",
       "      <td>07 RENTALS - WALKUP APARTMENTS</td>\n",
       "      <td>2</td>\n",
       "      <td>399</td>\n",
       "      <td>26</td>\n",
       "      <td></td>\n",
       "      <td>C7</td>\n",
       "      <td>234 EAST 4TH   STREET</td>\n",
       "      <td></td>\n",
       "      <td>...</td>\n",
       "      <td>28</td>\n",
       "      <td>3</td>\n",
       "      <td>31</td>\n",
       "      <td>4616.0</td>\n",
       "      <td>18690.0</td>\n",
       "      <td>1900</td>\n",
       "      <td>2</td>\n",
       "      <td>C7</td>\n",
       "      <td>NaN</td>\n",
       "      <td>2016-12-14</td>\n",
       "    </tr>\n",
       "    <tr>\n",
       "      <th>2</th>\n",
       "      <td>Manhattan</td>\n",
       "      <td>ALPHABET CITY</td>\n",
       "      <td>07 RENTALS - WALKUP APARTMENTS</td>\n",
       "      <td>2</td>\n",
       "      <td>399</td>\n",
       "      <td>39</td>\n",
       "      <td></td>\n",
       "      <td>C7</td>\n",
       "      <td>197 EAST 3RD   STREET</td>\n",
       "      <td></td>\n",
       "      <td>...</td>\n",
       "      <td>16</td>\n",
       "      <td>1</td>\n",
       "      <td>17</td>\n",
       "      <td>2212.0</td>\n",
       "      <td>7803.0</td>\n",
       "      <td>1900</td>\n",
       "      <td>2</td>\n",
       "      <td>C7</td>\n",
       "      <td>NaN</td>\n",
       "      <td>2016-12-09</td>\n",
       "    </tr>\n",
       "    <tr>\n",
       "      <th>3</th>\n",
       "      <td>Manhattan</td>\n",
       "      <td>ALPHABET CITY</td>\n",
       "      <td>07 RENTALS - WALKUP APARTMENTS</td>\n",
       "      <td>2B</td>\n",
       "      <td>402</td>\n",
       "      <td>21</td>\n",
       "      <td></td>\n",
       "      <td>C4</td>\n",
       "      <td>154 EAST 7TH STREET</td>\n",
       "      <td></td>\n",
       "      <td>...</td>\n",
       "      <td>10</td>\n",
       "      <td>0</td>\n",
       "      <td>10</td>\n",
       "      <td>2272.0</td>\n",
       "      <td>6794.0</td>\n",
       "      <td>1913</td>\n",
       "      <td>2</td>\n",
       "      <td>C4</td>\n",
       "      <td>3936272.0</td>\n",
       "      <td>2016-09-23</td>\n",
       "    </tr>\n",
       "    <tr>\n",
       "      <th>4</th>\n",
       "      <td>Manhattan</td>\n",
       "      <td>ALPHABET CITY</td>\n",
       "      <td>07 RENTALS - WALKUP APARTMENTS</td>\n",
       "      <td>2A</td>\n",
       "      <td>404</td>\n",
       "      <td>55</td>\n",
       "      <td></td>\n",
       "      <td>C2</td>\n",
       "      <td>301 EAST 10TH   STREET</td>\n",
       "      <td></td>\n",
       "      <td>...</td>\n",
       "      <td>6</td>\n",
       "      <td>0</td>\n",
       "      <td>6</td>\n",
       "      <td>2369.0</td>\n",
       "      <td>4615.0</td>\n",
       "      <td>1900</td>\n",
       "      <td>2</td>\n",
       "      <td>C2</td>\n",
       "      <td>8000000.0</td>\n",
       "      <td>2016-11-17</td>\n",
       "    </tr>\n",
       "  </tbody>\n",
       "</table>\n",
       "<p>5 rows × 21 columns</p>\n",
       "</div>"
      ],
      "text/plain": [
       "     BOROUGH   NEIGHBORHOOD                      BUILDING CLASS CATEGORY  \\\n",
       "0  Manhattan  ALPHABET CITY  07 RENTALS - WALKUP APARTMENTS                \n",
       "1  Manhattan  ALPHABET CITY  07 RENTALS - WALKUP APARTMENTS                \n",
       "2  Manhattan  ALPHABET CITY  07 RENTALS - WALKUP APARTMENTS                \n",
       "3  Manhattan  ALPHABET CITY  07 RENTALS - WALKUP APARTMENTS                \n",
       "4  Manhattan  ALPHABET CITY  07 RENTALS - WALKUP APARTMENTS                \n",
       "\n",
       "  TAX CLASS AT PRESENT  BLOCK  LOT EASE-MENT BUILDING CLASS AT PRESENT  \\\n",
       "0                   2A    392    6                                  C2   \n",
       "1                    2    399   26                                  C7   \n",
       "2                    2    399   39                                  C7   \n",
       "3                   2B    402   21                                  C4   \n",
       "4                   2A    404   55                                  C2   \n",
       "\n",
       "                  ADDRESS APARTMENT NUMBER  ...  RESIDENTIAL UNITS  \\\n",
       "0            153 AVENUE B                   ...                  5   \n",
       "1   234 EAST 4TH   STREET                   ...                 28   \n",
       "2   197 EAST 3RD   STREET                   ...                 16   \n",
       "3     154 EAST 7TH STREET                   ...                 10   \n",
       "4  301 EAST 10TH   STREET                   ...                  6   \n",
       "\n",
       "   COMMERCIAL UNITS  TOTAL UNITS  LAND SQUARE FEET  GROSS SQUARE FEET  \\\n",
       "0                 0            5            1633.0             6440.0   \n",
       "1                 3           31            4616.0            18690.0   \n",
       "2                 1           17            2212.0             7803.0   \n",
       "3                 0           10            2272.0             6794.0   \n",
       "4                 0            6            2369.0             4615.0   \n",
       "\n",
       "   YEAR BUILT  TAX CLASS AT TIME OF SALE  BUILDING CLASS AT TIME OF SALE  \\\n",
       "0        1900                          2                              C2   \n",
       "1        1900                          2                              C7   \n",
       "2        1900                          2                              C7   \n",
       "3        1913                          2                              C4   \n",
       "4        1900                          2                              C2   \n",
       "\n",
       "  SALE PRICE   SALE DATE  \n",
       "0  6625000.0  2017-07-19  \n",
       "1        NaN  2016-12-14  \n",
       "2        NaN  2016-12-09  \n",
       "3  3936272.0  2016-09-23  \n",
       "4  8000000.0  2016-11-17  \n",
       "\n",
       "[5 rows x 21 columns]"
      ]
     },
     "execution_count": 5,
     "metadata": {},
     "output_type": "execute_result"
    }
   ],
   "source": [
    "ps.head()"
   ]
  },
  {
   "cell_type": "markdown",
   "metadata": {
    "id": "L_NBIuClN-SA"
   },
   "source": [
    "## **2. Identification of variables and data types**\n",
    "For this part of the project I'm identifying the type of variables in the dataset. It is imporant for machine learning to know with what kind of variables you are dealing with.\n",
    "There are two types of variables:\n",
    "\n",
    "1. ***Categorical***\n",
    "2. ***Numerical***\n",
    "\n",
    "For this step, I'm creating two lists for each dataset where I'm saving the different columns. I'm using list comprehensions because it allows me to write less code and saves me some time. I'm using conditional logic to assign the right columns to the data type list where it belongs. In the end, I'm using formatted strings to display the variables in a string."
   ]
  },
  {
   "cell_type": "code",
   "execution_count": 6,
   "metadata": {
    "colab": {
     "base_uri": "https://localhost:8080/"
    },
    "executionInfo": {
     "elapsed": 569,
     "status": "ok",
     "timestamp": 1618566961361,
     "user": {
      "displayName": "Milan Patty",
      "photoUrl": "https://lh5.googleusercontent.com/-49abHFgA8WA/AAAAAAAAAAI/AAAAAAAAcec/0-aejkLTAzs/s64/photo.jpg",
      "userId": "07657054432866429697"
     },
     "user_tz": -120
    },
    "id": "TeQU1GYBOKRd",
    "outputId": "64240ccc-674b-4887-bd12-7279ed724232"
   },
   "outputs": [
    {
     "name": "stdout",
     "output_type": "stream",
     "text": [
      "There are 10 categorical columns in the property sales dataset. \n",
      "The columns are: ['BOROUGH', 'NEIGHBORHOOD', 'BUILDING CLASS CATEGORY', 'TAX CLASS AT PRESENT', 'EASE-MENT', 'BUILDING CLASS AT PRESENT', 'ADDRESS', 'APARTMENT NUMBER', 'BUILDING CLASS AT TIME OF SALE', 'SALE DATE']. \n",
      "\n",
      "There are 11 numerical columns in the property sales dataset. \n",
      "The columns are: ['BLOCK', 'LOT', 'ZIP CODE', 'RESIDENTIAL UNITS', 'COMMERCIAL UNITS', 'TOTAL UNITS', 'LAND SQUARE FEET', 'GROSS SQUARE FEET', 'YEAR BUILT', 'TAX CLASS AT TIME OF SALE', 'SALE PRICE'].\n"
     ]
    }
   ],
   "source": [
    "# Select categorical columns\n",
    "categorical_cols_re = [cname for cname in ps.columns if\n",
    "                    ps[cname].dtype == \"object\"]\n",
    "# Select numerical columns\n",
    "numerical_cols_re = [cname for cname in ps.columns if \n",
    "                ps[cname].dtype in ['int64', 'float64']]\n",
    "\n",
    "# Print the columns\n",
    "print(f'There are {len(categorical_cols_re)} categorical columns in the property sales dataset. \\nThe columns are: {categorical_cols_re}. \\n')\n",
    "print(f'There are {len(numerical_cols_re)} numerical columns in the property sales dataset. \\nThe columns are: {numerical_cols_re}.')"
   ]
  },
  {
   "cell_type": "markdown",
   "metadata": {
    "id": "qlZkMoRuOKnK"
   },
   "source": [
    "## **3. Missing values, data cleaning & outlier detection**\n",
    "In this part of this project, I'm going to clean the data en remove outliers. \n",
    "\n",
    "**NOTE:** One thing that I would like to mention is that at the end I still have values in my property sales dataset that have missing values. The reason why I'm not removing those values is that in my next document where I'm building a machine learning model I'm going to use machine learning pipelines to handle these values."
   ]
  },
  {
   "cell_type": "markdown",
   "metadata": {
    "id": "WIlpowiIORMd"
   },
   "source": [
    "### **3.1 Missing values and data cleaning**\n",
    "For this step of the project I'm checking for missing values in the datasets. I used my semi-cleaned version to check how many missing values this dataset contains."
   ]
  },
  {
   "cell_type": "code",
   "execution_count": 7,
   "metadata": {
    "colab": {
     "base_uri": "https://localhost:8080/"
    },
    "executionInfo": {
     "elapsed": 688,
     "status": "ok",
     "timestamp": 1618566964345,
     "user": {
      "displayName": "Milan Patty",
      "photoUrl": "https://lh5.googleusercontent.com/-49abHFgA8WA/AAAAAAAAAAI/AAAAAAAAcec/0-aejkLTAzs/s64/photo.jpg",
      "userId": "07657054432866429697"
     },
     "user_tz": -120
    },
    "id": "mYMd4a_QOT4C",
    "outputId": "71b8bbe1-3b4e-41c4-d775-c5e6aabf4d27"
   },
   "outputs": [
    {
     "data": {
      "text/plain": [
       "BOROUGH                               0\n",
       "NEIGHBORHOOD                          0\n",
       "BUILDING CLASS CATEGORY               0\n",
       "TAX CLASS AT PRESENT                  0\n",
       "BLOCK                                 0\n",
       "LOT                                   0\n",
       "EASE-MENT                             0\n",
       "BUILDING CLASS AT PRESENT             0\n",
       "ADDRESS                               0\n",
       "APARTMENT NUMBER                      0\n",
       "ZIP CODE                              0\n",
       "RESIDENTIAL UNITS                     0\n",
       "COMMERCIAL UNITS                      0\n",
       "TOTAL UNITS                           0\n",
       "LAND SQUARE FEET                  26252\n",
       "GROSS SQUARE FEET                 27612\n",
       "YEAR BUILT                            0\n",
       "TAX CLASS AT TIME OF SALE             0\n",
       "BUILDING CLASS AT TIME OF SALE        0\n",
       "SALE PRICE                        14561\n",
       "SALE DATE                             0\n",
       "dtype: int64"
      ]
     },
     "execution_count": 7,
     "metadata": {},
     "output_type": "execute_result"
    }
   ],
   "source": [
    "ps.isna().sum()"
   ]
  },
  {
   "cell_type": "markdown",
   "metadata": {
    "id": "PzKRrBGdOUGN"
   },
   "source": [
    "It seems that there are a lot of Sale Price values that have 0 as value. Because Sale Price is the target variable, it is necessary to drop these values. Also, I'm dropping the values that are 0 in other columns because that value is not appropriate in that numerical range. Also, I'm using a subset of the data where I'm excluding all the properties lower than 100.000 dollars on intuition because that is very unusual and will not help my model to create great predictions. There are 5 columns I would like to drop because they are not relevant for my project (in my opinion)."
   ]
  },
  {
   "cell_type": "code",
   "execution_count": 8,
   "metadata": {
    "colab": {
     "base_uri": "https://localhost:8080/"
    },
    "executionInfo": {
     "elapsed": 1085,
     "status": "ok",
     "timestamp": 1618567013355,
     "user": {
      "displayName": "Milan Patty",
      "photoUrl": "https://lh5.googleusercontent.com/-49abHFgA8WA/AAAAAAAAAAI/AAAAAAAAcec/0-aejkLTAzs/s64/photo.jpg",
      "userId": "07657054432866429697"
     },
     "user_tz": -120
    },
    "id": "5GNSdY5YOaCv",
    "outputId": "aae1e353-999b-4e23-d5c3-c8da13468f43"
   },
   "outputs": [
    {
     "data": {
      "text/plain": [
       "10228"
      ]
     },
     "execution_count": 8,
     "metadata": {},
     "output_type": "execute_result"
    }
   ],
   "source": [
    "len(ps[ps['SALE PRICE']== 0]) # Checking how many properties have a price that is 0"
   ]
  },
  {
   "cell_type": "code",
   "execution_count": 9,
   "metadata": {
    "executionInfo": {
     "elapsed": 566,
     "status": "ok",
     "timestamp": 1618567030180,
     "user": {
      "displayName": "Milan Patty",
      "photoUrl": "https://lh5.googleusercontent.com/-49abHFgA8WA/AAAAAAAAAAI/AAAAAAAAcec/0-aejkLTAzs/s64/photo.jpg",
      "userId": "07657054432866429697"
     },
     "user_tz": -120
    },
    "id": "XWKk8CkZObfo"
   },
   "outputs": [],
   "source": [
    "# Data cleaning\n",
    "ps = ps[ps['SALE PRICE'].notnull()]\n",
    "ps = ps[ps['SALE PRICE'] != 0]\n",
    "ps = ps[ps['SALE PRICE'] >= 100000]\n",
    "ps = ps[ps['YEAR BUILT'] != 0]\n",
    "ps = ps[ps['ZIP CODE'] != 0]\n",
    "ps = ps[ps['LAND SQUARE FEET'] != 0]\n",
    "ps = ps[ps['GROSS SQUARE FEET'] != 0]\n",
    "\n",
    "\n",
    "# Renaming the boroughs to numbers\n",
    "ps['BOROUGH'][ps['BOROUGH'] == 'Manhattan'] = 1\n",
    "ps['BOROUGH'][ps['BOROUGH'] == 'Bronx'] = 2\n",
    "ps['BOROUGH'][ps['BOROUGH'] == 'Brooklyn'] = 3\n",
    "ps['BOROUGH'][ps['BOROUGH'] == 'Queens'] = 4\n",
    "ps['BOROUGH'][ps['BOROUGH'] == 'Staten Island'] = 5\n",
    "\n",
    "# Dropping irrelevant columns\n",
    "ps.drop('EASE-MENT', axis=1, inplace=True)\n",
    "ps.drop('APARTMENT NUMBER', axis=1, inplace=True)\n",
    "ps.drop('BLOCK', axis=1, inplace=True)\n",
    "ps.drop('LOT', axis=1, inplace=True)\n",
    "ps.drop('SALE DATE', axis=1, inplace=True)"
   ]
  },
  {
   "cell_type": "code",
   "execution_count": 10,
   "metadata": {
    "colab": {
     "base_uri": "https://localhost:8080/"
    },
    "executionInfo": {
     "elapsed": 956,
     "status": "ok",
     "timestamp": 1618567031632,
     "user": {
      "displayName": "Milan Patty",
      "photoUrl": "https://lh5.googleusercontent.com/-49abHFgA8WA/AAAAAAAAAAI/AAAAAAAAcec/0-aejkLTAzs/s64/photo.jpg",
      "userId": "07657054432866429697"
     },
     "user_tz": -120
    },
    "id": "iD1Me9NzPRGz",
    "outputId": "d845aab4-28d8-475e-f6c9-95e4ac0ac78b"
   },
   "outputs": [
    {
     "data": {
      "text/plain": [
       "BOROUGH                               0\n",
       "NEIGHBORHOOD                          0\n",
       "BUILDING CLASS CATEGORY               0\n",
       "TAX CLASS AT PRESENT                  0\n",
       "BUILDING CLASS AT PRESENT             0\n",
       "ADDRESS                               0\n",
       "ZIP CODE                              0\n",
       "RESIDENTIAL UNITS                     0\n",
       "COMMERCIAL UNITS                      0\n",
       "TOTAL UNITS                           0\n",
       "LAND SQUARE FEET                  18626\n",
       "GROSS SQUARE FEET                 18774\n",
       "YEAR BUILT                            0\n",
       "TAX CLASS AT TIME OF SALE             0\n",
       "BUILDING CLASS AT TIME OF SALE        0\n",
       "SALE PRICE                            0\n",
       "dtype: int64"
      ]
     },
     "execution_count": 10,
     "metadata": {},
     "output_type": "execute_result"
    }
   ],
   "source": [
    "# Checking if data cleaning worked\n",
    "ps.isna().sum() "
   ]
  },
  {
   "cell_type": "markdown",
   "metadata": {
    "id": "_nm0H3pLPewE"
   },
   "source": [
    "After dropping some columns and cleaning up the data there can be concluded that there are still missing values. In my modelling part of this project, I'm going to use pipelines to handle the rest of the missing values. For now, I'm taking a look at the outliers in the data set."
   ]
  },
  {
   "cell_type": "markdown",
   "metadata": {
    "id": "0jMkrlaVPwXV"
   },
   "source": [
    "### **3.2 Outliers Detection**\n",
    "I know from my previous notebook where I did my Exploratory Data Analysis that my target variable has a lot of outliers. There are lots of mistakes in the dataset such as very low property prices and even zero's that appear and that I fixed in the previous section. What I need to fix in this section are the outliers. First, take a look at the price distribution of the properties in NYC."
   ]
  },
  {
   "cell_type": "code",
   "execution_count": 11,
   "metadata": {
    "colab": {
     "base_uri": "https://localhost:8080/",
     "height": 342
    },
    "executionInfo": {
     "elapsed": 859,
     "status": "ok",
     "timestamp": 1618567038155,
     "user": {
      "displayName": "Milan Patty",
      "photoUrl": "https://lh5.googleusercontent.com/-49abHFgA8WA/AAAAAAAAAAI/AAAAAAAAcec/0-aejkLTAzs/s64/photo.jpg",
      "userId": "07657054432866429697"
     },
     "user_tz": -120
    },
    "id": "v9guZl5QP4L7",
    "outputId": "b3a8d2e6-5ccc-42d5-f2a4-9bee8a1a580d"
   },
   "outputs": [
    {
     "data": {
      "image/png": "[encoded data removed]",
      "text/plain": [
       "<Figure size 1080x432 with 1 Axes>"
      ]
     },
     "metadata": {},
     "output_type": "display_data"
    }
   ],
   "source": [
    "# Figure size and theme\n",
    "plt.figure(figsize=(15,6))\n",
    "\n",
    "# Plot the data\n",
    "sns.boxplot(ps['SALE PRICE'])\n",
    "plt.title('Sale price Boxplot for the Property Sales in New York City',fontsize=15)\n",
    "plt.ticklabel_format(style='plain', axis='x')\n",
    "plt.xlabel('Sale Price')\n",
    "plt.show()"
   ]
  },
  {
   "cell_type": "markdown",
   "metadata": {
    "id": "PrYeDglGP5OW"
   },
   "source": [
    "It seems that prices are not well distributed in the data. It is not strange to see lots of outliers at the higher price end because Manhatten is a very expensive place to live in New York City and not every data point is correct. To handle the outliers, I'm using a tactic called Interquartile Range (IQR) Method."
   ]
  },
  {
   "cell_type": "markdown",
   "metadata": {
    "id": "f52CCL-eP9au"
   },
   "source": [
    "#### **3.2.1 IQR Method for Sale Price**\n",
    "The IQR is the difference between the median of the upper half (75th percentile) and the median of the lower half (25th percentile). It defines the box in the boxplot.\n",
    "\n",
    "The IQR can be used to identify outliers by defining limits on the sample values that are a factor k of the IQR below the 25th percentile or above the 75th percentile. The common value for the factor k is the value 1.5 and that's what I'm using in this example."
   ]
  },
  {
   "cell_type": "code",
   "execution_count": 12,
   "metadata": {
    "colab": {
     "base_uri": "https://localhost:8080/"
    },
    "executionInfo": {
     "elapsed": 614,
     "status": "ok",
     "timestamp": 1618567045055,
     "user": {
      "displayName": "Milan Patty",
      "photoUrl": "https://lh5.googleusercontent.com/-49abHFgA8WA/AAAAAAAAAAI/AAAAAAAAcec/0-aejkLTAzs/s64/photo.jpg",
      "userId": "07657054432866429697"
     },
     "user_tz": -120
    },
    "id": "FM1krgmNQA7f",
    "outputId": "e085428e-82a0-4bc3-adba-64541ca50c2d"
   },
   "outputs": [
    {
     "name": "stdout",
     "output_type": "stream",
     "text": [
      "Percentiles: 25th=%416000.0, 75th=%1100000.0, IQR=%684000.0\n",
      "Identified outliers: 5245\n",
      "Non-outlier observations: 41470\n"
     ]
    }
   ],
   "source": [
    "q25, q75 = percentile(ps['SALE PRICE'], 25), percentile(ps['SALE PRICE'], 75)\n",
    "iqr = q75 - q25\n",
    "print(f'Percentiles: 25th=%{q25}, 75th=%{q75}, IQR=%{iqr}')\n",
    "# calculate the outlier cutoff\n",
    "cut_off = iqr * 1.5\n",
    "lower, upper = q25 - cut_off, q75 + cut_off\n",
    "# identify outliers\n",
    "outliers = [x for x in ps['SALE PRICE'] if x < lower or x > upper]\n",
    "print(f'Identified outliers: {len(outliers)}')\n",
    "# remove outliers\n",
    "outliers_removed = [x for x in ps['SALE PRICE'] if x >= lower and x <= upper]\n",
    "print(f'Non-outlier observations: {len(outliers_removed)}')"
   ]
  },
  {
   "cell_type": "code",
   "execution_count": 13,
   "metadata": {
    "executionInfo": {
     "elapsed": 527,
     "status": "ok",
     "timestamp": 1618567050495,
     "user": {
      "displayName": "Milan Patty",
      "photoUrl": "https://lh5.googleusercontent.com/-49abHFgA8WA/AAAAAAAAAAI/AAAAAAAAcec/0-aejkLTAzs/s64/photo.jpg",
      "userId": "07657054432866429697"
     },
     "user_tz": -120
    },
    "id": "Cd_dfsmQQC8P"
   },
   "outputs": [],
   "source": [
    "# Creating a new DataFrame where I'm using the prices in outliers_removed\n",
    "without_outliers = ps[ps['SALE PRICE'].isin(outliers_removed)]"
   ]
  },
  {
   "cell_type": "code",
   "execution_count": 14,
   "metadata": {
    "colab": {
     "base_uri": "https://localhost:8080/",
     "height": 277
    },
    "executionInfo": {
     "elapsed": 829,
     "status": "ok",
     "timestamp": 1618567054066,
     "user": {
      "displayName": "Milan Patty",
      "photoUrl": "https://lh5.googleusercontent.com/-49abHFgA8WA/AAAAAAAAAAI/AAAAAAAAcec/0-aejkLTAzs/s64/photo.jpg",
      "userId": "07657054432866429697"
     },
     "user_tz": -120
    },
    "id": "WI0zI5B5QGCg",
    "outputId": "4dde22c5-ec74-42c2-904c-3a8b688c711f"
   },
   "outputs": [
    {
     "data": {
      "image/png": "[encoded data removed]",
      "text/plain": [
       "<Figure size 1080x432 with 1 Axes>"
      ]
     },
     "metadata": {},
     "output_type": "display_data"
    }
   ],
   "source": [
    "# Let'see the improved data \n",
    "# Figure size and theme\n",
    "plt.figure(figsize=(15,6))\n",
    "\n",
    "# Plot the data\n",
    "sns.boxplot(without_outliers['SALE PRICE'])\n",
    "plt.title('Sale price Boxplot for the Property Sales in New York City using IQR',fontsize=15)\n",
    "plt.ticklabel_format(style='plain', axis='x')\n",
    "plt.xlabel('Sale Price')\n",
    "plt.show()"
   ]
  },
  {
   "cell_type": "markdown",
   "metadata": {
    "id": "o3BPY8NVQH9I"
   },
   "source": [
    "#### **3.2.2 Land Square Feet and Gross Square Feet**\n",
    "I noticed that the Land Square Feet and Gross Square Feet columns also had outliers that messed up the distribution. I didn't know what exactly a normal size was for an NYC property was so I used some articles to gain some knowledge to remove these outliers.\n",
    "\n",
    "I used this [link](https://www.apartmenttherapy.com/what-is-considered-a-small-apartment-243701) knowledge about how big a small apartment is. I'm filtering properties in a range from 250sqft to 10,000sqft for the bigger properties."
   ]
  },
  {
   "cell_type": "code",
   "execution_count": 15,
   "metadata": {
    "colab": {
     "base_uri": "https://localhost:8080/",
     "height": 277
    },
    "executionInfo": {
     "elapsed": 867,
     "status": "ok",
     "timestamp": 1618567081424,
     "user": {
      "displayName": "Milan Patty",
      "photoUrl": "https://lh5.googleusercontent.com/-49abHFgA8WA/AAAAAAAAAAI/AAAAAAAAcec/0-aejkLTAzs/s64/photo.jpg",
      "userId": "07657054432866429697"
     },
     "user_tz": -120
    },
    "id": "b2i01FLIQO4m",
    "outputId": "23185c3b-0b84-4cb1-d44a-2706d4d4bf12"
   },
   "outputs": [
    {
     "data": {
      "image/png": "[encoded data removed]",
      "text/plain": [
       "<Figure size 1080x432 with 1 Axes>"
      ]
     },
     "metadata": {},
     "output_type": "display_data"
    }
   ],
   "source": [
    "# Figure size and theme\n",
    "plt.figure(figsize=(15,6))\n",
    "\n",
    "# Plot the data\n",
    "sns.boxplot(without_outliers['LAND SQUARE FEET'])\n",
    "plt.title('Land Square Feet distribution',fontsize=15)\n",
    "plt.ticklabel_format(style='plain', axis='x')\n",
    "plt.xlabel('LAND SQUARE FEET')\n",
    "plt.show()"
   ]
  },
  {
   "cell_type": "code",
   "execution_count": 16,
   "metadata": {
    "colab": {
     "base_uri": "https://localhost:8080/"
    },
    "executionInfo": {
     "elapsed": 463,
     "status": "ok",
     "timestamp": 1618567083646,
     "user": {
      "displayName": "Milan Patty",
      "photoUrl": "https://lh5.googleusercontent.com/-49abHFgA8WA/AAAAAAAAAAI/AAAAAAAAcec/0-aejkLTAzs/s64/photo.jpg",
      "userId": "07657054432866429697"
     },
     "user_tz": -120
    },
    "id": "tXulv7KPQPIh",
    "outputId": "60127def-f361-4ce2-e798-d93ca48d6060"
   },
   "outputs": [
    {
     "name": "stdout",
     "output_type": "stream",
     "text": [
      "There are 333 properties that are less than 250 sqft or higher than 10000 sqft.\n"
     ]
    }
   ],
   "source": [
    "count = len(without_outliers[(without_outliers['LAND SQUARE FEET'] < 250) | (without_outliers['LAND SQUARE FEET'] > 10000)])\n",
    "print(f'There are {count} properties that are less than 250 sqft or higher than 10000 sqft.')"
   ]
  },
  {
   "cell_type": "markdown",
   "metadata": {
    "id": "v51fHNvoQRAZ"
   },
   "source": [
    "It seems that there are 333 properties outside my range. My next step will be to filter out these properties so that my machine learning models performance should improve. I'm using some conditional logic to filter out the properties with missing values and the combination of 250 sqft and 10000 sqft for land square feet and gross square feet. After that, I'm checking for Land Square Feet if it worked."
   ]
  },
  {
   "cell_type": "code",
   "execution_count": 17,
   "metadata": {
    "executionInfo": {
     "elapsed": 499,
     "status": "ok",
     "timestamp": 1618567088738,
     "user": {
      "displayName": "Milan Patty",
      "photoUrl": "https://lh5.googleusercontent.com/-49abHFgA8WA/AAAAAAAAAAI/AAAAAAAAcec/0-aejkLTAzs/s64/photo.jpg",
      "userId": "07657054432866429697"
     },
     "user_tz": -120
    },
    "id": "Ba5FyLg_QVnJ"
   },
   "outputs": [],
   "source": [
    "without_outliers = without_outliers[(without_outliers['LAND SQUARE FEET'].isna())| ((without_outliers['LAND SQUARE FEET'] >= 250) & (without_outliers['LAND SQUARE FEET'] <= 10000))]\n",
    "without_outliers = without_outliers[(without_outliers['GROSS SQUARE FEET'].isna())| ((without_outliers['GROSS SQUARE FEET'] >= 250) & (without_outliers['GROSS SQUARE FEET'] <= 10000))]"
   ]
  },
  {
   "cell_type": "code",
   "execution_count": 18,
   "metadata": {
    "colab": {
     "base_uri": "https://localhost:8080/",
     "height": 277
    },
    "executionInfo": {
     "elapsed": 864,
     "status": "ok",
     "timestamp": 1618567090378,
     "user": {
      "displayName": "Milan Patty",
      "photoUrl": "https://lh5.googleusercontent.com/-49abHFgA8WA/AAAAAAAAAAI/AAAAAAAAcec/0-aejkLTAzs/s64/photo.jpg",
      "userId": "07657054432866429697"
     },
     "user_tz": -120
    },
    "id": "wE7wr36gQV6j",
    "outputId": "20225d2b-8f7e-45c9-de69-1642c8c4f01a"
   },
   "outputs": [
    {
     "data": {
      "image/png": "[encoded data removed]",
      "text/plain": [
       "<Figure size 1080x432 with 1 Axes>"
      ]
     },
     "metadata": {},
     "output_type": "display_data"
    }
   ],
   "source": [
    "# Figure size and theme\n",
    "plt.figure(figsize=(15,6))\n",
    "\n",
    "# Plot the data\n",
    "sns.boxplot(without_outliers['LAND SQUARE FEET'])\n",
    "plt.title('Land Square Feet Improved distribution',fontsize=15)\n",
    "plt.ticklabel_format(style='plain', axis='x')\n",
    "plt.xlabel('LAND SQUARE FEET')\n",
    "plt.show()"
   ]
  },
  {
   "cell_type": "markdown",
   "metadata": {
    "id": "hkWveqgVQYEC"
   },
   "source": [
    "It worked. Let's go to the last part of this project."
   ]
  },
  {
   "cell_type": "markdown",
   "metadata": {
    "id": "mZ08YIwYQg-q"
   },
   "source": [
    "## **4. Adding a new data set and merge it**\n",
    "For the last part of this project, I'm going to combine my property sales data set with some of the columns of the NYC census data set. I'm using demographic information about the NYC population. I know that this is an ethical subject and for this project, I'm using it only to create new features.\n",
    "My goal of merging these 2 datasets is that I have my property sales dataset include some group transforms from the census dataset. \n",
    "\n",
    "Group transforms aggregate information across multiple rows that are grouped by some category. Both of my data sets have the 'Borough' column. I'm using that column to merge the data sets. I'm creating new columns that were original in percentages and sum all of these data points together. First, I'm going to check if the census has any missing values.\n",
    "\n"
   ]
  },
  {
   "cell_type": "code",
   "execution_count": 19,
   "metadata": {
    "colab": {
     "base_uri": "https://localhost:8080/"
    },
    "executionInfo": {
     "elapsed": 625,
     "status": "ok",
     "timestamp": 1618573417425,
     "user": {
      "displayName": "Milan Patty",
      "photoUrl": "https://lh5.googleusercontent.com/-49abHFgA8WA/AAAAAAAAAAI/AAAAAAAAcec/0-aejkLTAzs/s64/photo.jpg",
      "userId": "07657054432866429697"
     },
     "user_tz": -120
    },
    "id": "zGY7QOYvZb9O",
    "outputId": "4301508c-cfe0-46ab-9444-f56232903246"
   },
   "outputs": [
    {
     "data": {
      "text/plain": [
       "CensusTract         0\n",
       "County              0\n",
       "Borough             0\n",
       "TotalPop            0\n",
       "Men                 0\n",
       "Women               0\n",
       "Hispanic           39\n",
       "White              39\n",
       "Black              39\n",
       "Native             39\n",
       "Asian              39\n",
       "Citizen             0\n",
       "Income             66\n",
       "IncomeErr          66\n",
       "IncomePerCap       46\n",
       "IncomePerCapErr    46\n",
       "Poverty            42\n",
       "ChildPoverty       60\n",
       "Professional       43\n",
       "Service            43\n",
       "Office             43\n",
       "Construction       43\n",
       "Production         43\n",
       "Drive              43\n",
       "Carpool            43\n",
       "Transit            43\n",
       "Walk               43\n",
       "OtherTransp        43\n",
       "WorkAtHome         43\n",
       "MeanCommute        61\n",
       "Employed            0\n",
       "PrivateWork        43\n",
       "PublicWork         43\n",
       "SelfEmployed       43\n",
       "FamilyWork         43\n",
       "Unemployment       42\n",
       "dtype: int64"
      ]
     },
     "execution_count": 19,
     "metadata": {},
     "output_type": "execute_result"
    }
   ],
   "source": [
    "census.isnull().sum()"
   ]
  },
  {
   "cell_type": "code",
   "execution_count": 20,
   "metadata": {
    "executionInfo": {
     "elapsed": 1108,
     "status": "ok",
     "timestamp": 1618573664293,
     "user": {
      "displayName": "Milan Patty",
      "photoUrl": "https://lh5.googleusercontent.com/-49abHFgA8WA/AAAAAAAAAAI/AAAAAAAAcec/0-aejkLTAzs/s64/photo.jpg",
      "userId": "07657054432866429697"
     },
     "user_tz": -120
    },
    "id": "7oZC9ta6e_5s"
   },
   "outputs": [],
   "source": [
    "# Fill numeric rows with the median\n",
    "for label, content in census.items():\n",
    "    if pd.api.types.is_numeric_dtype(content):\n",
    "        if pd.isnull(content).sum():\n",
    "            # Fill missing numeric values with median since it's more robust than the mean\n",
    "            census[label] = content.fillna(content.median())"
   ]
  },
  {
   "cell_type": "markdown",
   "metadata": {
    "id": "GXMXS13fgivv"
   },
   "source": [
    "Let's see if it worked"
   ]
  },
  {
   "cell_type": "code",
   "execution_count": 21,
   "metadata": {
    "colab": {
     "base_uri": "https://localhost:8080/"
    },
    "executionInfo": {
     "elapsed": 1012,
     "status": "ok",
     "timestamp": 1618573686914,
     "user": {
      "displayName": "Milan Patty",
      "photoUrl": "https://lh5.googleusercontent.com/-49abHFgA8WA/AAAAAAAAAAI/AAAAAAAAcec/0-aejkLTAzs/s64/photo.jpg",
      "userId": "07657054432866429697"
     },
     "user_tz": -120
    },
    "id": "9FFDyk3igm_S",
    "outputId": "3caae2dd-66dc-4c5f-f023-96e89aba6948"
   },
   "outputs": [
    {
     "data": {
      "text/plain": [
       "CensusTract        0\n",
       "County             0\n",
       "Borough            0\n",
       "TotalPop           0\n",
       "Men                0\n",
       "Women              0\n",
       "Hispanic           0\n",
       "White              0\n",
       "Black              0\n",
       "Native             0\n",
       "Asian              0\n",
       "Citizen            0\n",
       "Income             0\n",
       "IncomeErr          0\n",
       "IncomePerCap       0\n",
       "IncomePerCapErr    0\n",
       "Poverty            0\n",
       "ChildPoverty       0\n",
       "Professional       0\n",
       "Service            0\n",
       "Office             0\n",
       "Construction       0\n",
       "Production         0\n",
       "Drive              0\n",
       "Carpool            0\n",
       "Transit            0\n",
       "Walk               0\n",
       "OtherTransp        0\n",
       "WorkAtHome         0\n",
       "MeanCommute        0\n",
       "Employed           0\n",
       "PrivateWork        0\n",
       "PublicWork         0\n",
       "SelfEmployed       0\n",
       "FamilyWork         0\n",
       "Unemployment       0\n",
       "dtype: int64"
      ]
     },
     "execution_count": 21,
     "metadata": {},
     "output_type": "execute_result"
    }
   ],
   "source": [
    "census.isnull().sum()"
   ]
  },
  {
   "cell_type": "markdown",
   "metadata": {
    "id": "rXRfHI3Dg8Uz"
   },
   "source": [
    "Here I'm going to create more columns for my dataset using group transforms (technique that is used for feature engineering). The reason for doing this is that my model has more features to find patterns in which could lead to overall better model performance."
   ]
  },
  {
   "cell_type": "code",
   "execution_count": 22,
   "metadata": {
    "executionInfo": {
     "elapsed": 550,
     "status": "ok",
     "timestamp": 1618574005043,
     "user": {
      "displayName": "Milan Patty",
      "photoUrl": "https://lh5.googleusercontent.com/-49abHFgA8WA/AAAAAAAAAAI/AAAAAAAAcec/0-aejkLTAzs/s64/photo.jpg",
      "userId": "07657054432866429697"
     },
     "user_tz": -120
    },
    "id": "h0TxLKv7Q1XE"
   },
   "outputs": [],
   "source": [
    "# Creating new columns \n",
    "census['no_hispanic'] = round((census['TotalPop'] / 100) * census['Hispanic'],0) # Number of hispanic residents\n",
    "census['no_white'] = round((census['TotalPop'] / 100) * census['White'],0) # Number of white residents\n",
    "census['no_black'] = round((census['TotalPop'] / 100) * census['Black'],0) # Number of black residents\n",
    "census['no_native'] = round((census['TotalPop'] / 100) * census['Native'],0) # Number of native residents\n",
    "census['no_asian'] = round((census['TotalPop'] / 100) * census['Asian'],0) # Number of native residents\n",
    "\n",
    "census['no_unemployed'] = round((census['TotalPop'] / 100) * census['Unemployment'],0) # Number of unemployed residents\n",
    "census['no_poverty'] = round((census['TotalPop'] / 100) * census['Poverty'],0) # Number of people living under poverty\n",
    "\n",
    "# Renaming the boroughs to numbers\n",
    "census['Borough'][census['Borough'] == 'Manhattan'] = 1\n",
    "census['Borough'][census['Borough'] == 'Bronx'] = 2\n",
    "census['Borough'][census['Borough'] == 'Brooklyn'] = 3\n",
    "census['Borough'][census['Borough'] == 'Queens'] = 4\n",
    "census['Borough'][census['Borough'] == 'Staten Island'] = 5\n",
    "\n",
    "# Creating a new dataframe where I grouped the data on Borough\n",
    "b = census.groupby('Borough')[['TotalPop', 'Men', 'Women','no_hispanic', 'no_white', 'no_black', 'no_native', 'no_asian', 'no_unemployed', 'no_poverty']].sum()\n",
    "\n",
    "# Creating new column\n",
    "median_income = census.groupby('Borough').median()\n",
    "b['median_income'] = median_income['Income']\n",
    "b.reset_index(inplace=True)\n",
    "\n",
    "# Merging datasets\n",
    "new_df = pd.merge(left=without_outliers, right=b, how='left', left_on='BOROUGH', right_on='Borough')"
   ]
  },
  {
   "cell_type": "markdown",
   "metadata": {
    "id": "IIEvdwpkTVp8"
   },
   "source": [
    "Let's take a look if it worked."
   ]
  },
  {
   "cell_type": "code",
   "execution_count": 23,
   "metadata": {
    "colab": {
     "base_uri": "https://localhost:8080/"
    },
    "executionInfo": {
     "elapsed": 681,
     "status": "ok",
     "timestamp": 1618574007930,
     "user": {
      "displayName": "Milan Patty",
      "photoUrl": "https://lh5.googleusercontent.com/-49abHFgA8WA/AAAAAAAAAAI/AAAAAAAAcec/0-aejkLTAzs/s64/photo.jpg",
      "userId": "07657054432866429697"
     },
     "user_tz": -120
    },
    "id": "mpAYBS8zTY5G",
    "outputId": "549412b0-fefe-4e03-958b-e68761c6e0cc"
   },
   "outputs": [
    {
     "name": "stdout",
     "output_type": "stream",
     "text": [
      "<class 'pandas.core.frame.DataFrame'>\n",
      "Int64Index: 41070 entries, 0 to 41069\n",
      "Data columns (total 28 columns):\n",
      " #   Column                          Non-Null Count  Dtype  \n",
      "---  ------                          --------------  -----  \n",
      " 0   BOROUGH                         41070 non-null  object \n",
      " 1   NEIGHBORHOOD                    41070 non-null  object \n",
      " 2   BUILDING CLASS CATEGORY         41070 non-null  object \n",
      " 3   TAX CLASS AT PRESENT            41070 non-null  object \n",
      " 4   BUILDING CLASS AT PRESENT       41070 non-null  object \n",
      " 5   ADDRESS                         41070 non-null  object \n",
      " 6   ZIP CODE                        41070 non-null  int64  \n",
      " 7   RESIDENTIAL UNITS               41070 non-null  int64  \n",
      " 8   COMMERCIAL UNITS                41070 non-null  int64  \n",
      " 9   TOTAL UNITS                     41070 non-null  int64  \n",
      " 10  LAND SQUARE FEET                25313 non-null  float64\n",
      " 11  GROSS SQUARE FEET               25180 non-null  float64\n",
      " 12  YEAR BUILT                      41070 non-null  int64  \n",
      " 13  TAX CLASS AT TIME OF SALE       41070 non-null  int64  \n",
      " 14  BUILDING CLASS AT TIME OF SALE  41070 non-null  object \n",
      " 15  SALE PRICE                      41070 non-null  float64\n",
      " 16  Borough                         41070 non-null  int64  \n",
      " 17  TotalPop                        41070 non-null  int64  \n",
      " 18  Men                             41070 non-null  int64  \n",
      " 19  Women                           41070 non-null  int64  \n",
      " 20  no_hispanic                     41070 non-null  float64\n",
      " 21  no_white                        41070 non-null  float64\n",
      " 22  no_black                        41070 non-null  float64\n",
      " 23  no_native                       41070 non-null  float64\n",
      " 24  no_asian                        41070 non-null  float64\n",
      " 25  no_unemployed                   41070 non-null  float64\n",
      " 26  no_poverty                      41070 non-null  float64\n",
      " 27  median_income                   41070 non-null  float64\n",
      "dtypes: float64(11), int64(10), object(7)\n",
      "memory usage: 9.1+ MB\n"
     ]
    }
   ],
   "source": [
    "new_df.info()"
   ]
  },
  {
   "cell_type": "code",
   "execution_count": 24,
   "metadata": {
    "colab": {
     "base_uri": "https://localhost:8080/",
     "height": 615
    },
    "executionInfo": {
     "elapsed": 529,
     "status": "ok",
     "timestamp": 1618574009292,
     "user": {
      "displayName": "Milan Patty",
      "photoUrl": "https://lh5.googleusercontent.com/-49abHFgA8WA/AAAAAAAAAAI/AAAAAAAAcec/0-aejkLTAzs/s64/photo.jpg",
      "userId": "07657054432866429697"
     },
     "user_tz": -120
    },
    "id": "vdG0zSm8TeCS",
    "outputId": "af01094f-3a3b-4a84-d239-216b5912ae60"
   },
   "outputs": [
    {
     "data": {
      "text/html": [
       "<div>\n",
       "<style scoped>\n",
       "    .dataframe tbody tr th:only-of-type {\n",
       "        vertical-align: middle;\n",
       "    }\n",
       "\n",
       "    .dataframe tbody tr th {\n",
       "        vertical-align: top;\n",
       "    }\n",
       "\n",
       "    .dataframe thead th {\n",
       "        text-align: right;\n",
       "    }\n",
       "</style>\n",
       "<table border=\"1\" class=\"dataframe\">\n",
       "  <thead>\n",
       "    <tr style=\"text-align: right;\">\n",
       "      <th></th>\n",
       "      <th>BOROUGH</th>\n",
       "      <th>NEIGHBORHOOD</th>\n",
       "      <th>BUILDING CLASS CATEGORY</th>\n",
       "      <th>TAX CLASS AT PRESENT</th>\n",
       "      <th>BUILDING CLASS AT PRESENT</th>\n",
       "      <th>ADDRESS</th>\n",
       "      <th>ZIP CODE</th>\n",
       "      <th>RESIDENTIAL UNITS</th>\n",
       "      <th>COMMERCIAL UNITS</th>\n",
       "      <th>TOTAL UNITS</th>\n",
       "      <th>...</th>\n",
       "      <th>Men</th>\n",
       "      <th>Women</th>\n",
       "      <th>no_hispanic</th>\n",
       "      <th>no_white</th>\n",
       "      <th>no_black</th>\n",
       "      <th>no_native</th>\n",
       "      <th>no_asian</th>\n",
       "      <th>no_unemployed</th>\n",
       "      <th>no_poverty</th>\n",
       "      <th>median_income</th>\n",
       "    </tr>\n",
       "  </thead>\n",
       "  <tbody>\n",
       "    <tr>\n",
       "      <th>0</th>\n",
       "      <td>1</td>\n",
       "      <td>ALPHABET CITY</td>\n",
       "      <td>09 COOPS - WALKUP APARTMENTS</td>\n",
       "      <td>2</td>\n",
       "      <td>C6</td>\n",
       "      <td>327 EAST 3 STREET, 1C</td>\n",
       "      <td>10009</td>\n",
       "      <td>0</td>\n",
       "      <td>0</td>\n",
       "      <td>0</td>\n",
       "      <td>...</td>\n",
       "      <td>769434</td>\n",
       "      <td>860073</td>\n",
       "      <td>420410.0</td>\n",
       "      <td>767710.0</td>\n",
       "      <td>207591.0</td>\n",
       "      <td>2211.0</td>\n",
       "      <td>188553.0</td>\n",
       "      <td>129805.0</td>\n",
       "      <td>291346.0</td>\n",
       "      <td>76154.0</td>\n",
       "    </tr>\n",
       "    <tr>\n",
       "      <th>1</th>\n",
       "      <td>1</td>\n",
       "      <td>ALPHABET CITY</td>\n",
       "      <td>09 COOPS - WALKUP APARTMENTS</td>\n",
       "      <td>2</td>\n",
       "      <td>C6</td>\n",
       "      <td>327 EAST 3RD STREET, 5A</td>\n",
       "      <td>10009</td>\n",
       "      <td>0</td>\n",
       "      <td>0</td>\n",
       "      <td>0</td>\n",
       "      <td>...</td>\n",
       "      <td>769434</td>\n",
       "      <td>860073</td>\n",
       "      <td>420410.0</td>\n",
       "      <td>767710.0</td>\n",
       "      <td>207591.0</td>\n",
       "      <td>2211.0</td>\n",
       "      <td>188553.0</td>\n",
       "      <td>129805.0</td>\n",
       "      <td>291346.0</td>\n",
       "      <td>76154.0</td>\n",
       "    </tr>\n",
       "    <tr>\n",
       "      <th>2</th>\n",
       "      <td>1</td>\n",
       "      <td>ALPHABET CITY</td>\n",
       "      <td>09 COOPS - WALKUP APARTMENTS</td>\n",
       "      <td>2</td>\n",
       "      <td>C6</td>\n",
       "      <td>327 EAST 3 STREET, 2E</td>\n",
       "      <td>10009</td>\n",
       "      <td>0</td>\n",
       "      <td>0</td>\n",
       "      <td>0</td>\n",
       "      <td>...</td>\n",
       "      <td>769434</td>\n",
       "      <td>860073</td>\n",
       "      <td>420410.0</td>\n",
       "      <td>767710.0</td>\n",
       "      <td>207591.0</td>\n",
       "      <td>2211.0</td>\n",
       "      <td>188553.0</td>\n",
       "      <td>129805.0</td>\n",
       "      <td>291346.0</td>\n",
       "      <td>76154.0</td>\n",
       "    </tr>\n",
       "    <tr>\n",
       "      <th>3</th>\n",
       "      <td>1</td>\n",
       "      <td>ALPHABET CITY</td>\n",
       "      <td>09 COOPS - WALKUP APARTMENTS</td>\n",
       "      <td>2</td>\n",
       "      <td>C6</td>\n",
       "      <td>317 EAST 3RD STREET, 12</td>\n",
       "      <td>10009</td>\n",
       "      <td>0</td>\n",
       "      <td>0</td>\n",
       "      <td>0</td>\n",
       "      <td>...</td>\n",
       "      <td>769434</td>\n",
       "      <td>860073</td>\n",
       "      <td>420410.0</td>\n",
       "      <td>767710.0</td>\n",
       "      <td>207591.0</td>\n",
       "      <td>2211.0</td>\n",
       "      <td>188553.0</td>\n",
       "      <td>129805.0</td>\n",
       "      <td>291346.0</td>\n",
       "      <td>76154.0</td>\n",
       "    </tr>\n",
       "    <tr>\n",
       "      <th>4</th>\n",
       "      <td>1</td>\n",
       "      <td>ALPHABET CITY</td>\n",
       "      <td>09 COOPS - WALKUP APARTMENTS</td>\n",
       "      <td>2</td>\n",
       "      <td>C6</td>\n",
       "      <td>311 EAST 3RD STREET, 17</td>\n",
       "      <td>10009</td>\n",
       "      <td>0</td>\n",
       "      <td>0</td>\n",
       "      <td>0</td>\n",
       "      <td>...</td>\n",
       "      <td>769434</td>\n",
       "      <td>860073</td>\n",
       "      <td>420410.0</td>\n",
       "      <td>767710.0</td>\n",
       "      <td>207591.0</td>\n",
       "      <td>2211.0</td>\n",
       "      <td>188553.0</td>\n",
       "      <td>129805.0</td>\n",
       "      <td>291346.0</td>\n",
       "      <td>76154.0</td>\n",
       "    </tr>\n",
       "  </tbody>\n",
       "</table>\n",
       "<p>5 rows × 28 columns</p>\n",
       "</div>"
      ],
      "text/plain": [
       "  BOROUGH   NEIGHBORHOOD                      BUILDING CLASS CATEGORY  \\\n",
       "0       1  ALPHABET CITY  09 COOPS - WALKUP APARTMENTS                  \n",
       "1       1  ALPHABET CITY  09 COOPS - WALKUP APARTMENTS                  \n",
       "2       1  ALPHABET CITY  09 COOPS - WALKUP APARTMENTS                  \n",
       "3       1  ALPHABET CITY  09 COOPS - WALKUP APARTMENTS                  \n",
       "4       1  ALPHABET CITY  09 COOPS - WALKUP APARTMENTS                  \n",
       "\n",
       "  TAX CLASS AT PRESENT BUILDING CLASS AT PRESENT                  ADDRESS  \\\n",
       "0                    2                        C6    327 EAST 3 STREET, 1C   \n",
       "1                    2                        C6  327 EAST 3RD STREET, 5A   \n",
       "2                    2                        C6    327 EAST 3 STREET, 2E   \n",
       "3                    2                        C6  317 EAST 3RD STREET, 12   \n",
       "4                    2                        C6  311 EAST 3RD STREET, 17   \n",
       "\n",
       "   ZIP CODE  RESIDENTIAL UNITS  COMMERCIAL UNITS  TOTAL UNITS  ...     Men  \\\n",
       "0     10009                  0                 0            0  ...  769434   \n",
       "1     10009                  0                 0            0  ...  769434   \n",
       "2     10009                  0                 0            0  ...  769434   \n",
       "3     10009                  0                 0            0  ...  769434   \n",
       "4     10009                  0                 0            0  ...  769434   \n",
       "\n",
       "    Women  no_hispanic  no_white  no_black  no_native  no_asian  \\\n",
       "0  860073     420410.0  767710.0  207591.0     2211.0  188553.0   \n",
       "1  860073     420410.0  767710.0  207591.0     2211.0  188553.0   \n",
       "2  860073     420410.0  767710.0  207591.0     2211.0  188553.0   \n",
       "3  860073     420410.0  767710.0  207591.0     2211.0  188553.0   \n",
       "4  860073     420410.0  767710.0  207591.0     2211.0  188553.0   \n",
       "\n",
       "   no_unemployed  no_poverty  median_income  \n",
       "0       129805.0    291346.0        76154.0  \n",
       "1       129805.0    291346.0        76154.0  \n",
       "2       129805.0    291346.0        76154.0  \n",
       "3       129805.0    291346.0        76154.0  \n",
       "4       129805.0    291346.0        76154.0  \n",
       "\n",
       "[5 rows x 28 columns]"
      ]
     },
     "execution_count": 24,
     "metadata": {},
     "output_type": "execute_result"
    }
   ],
   "source": [
    "new_df.head()"
   ]
  },
  {
   "cell_type": "markdown",
   "metadata": {
    "id": "PYUNCbeeTgzD"
   },
   "source": [
    "Now I have a bigger data set where I'm combining information about NYC properties and demographic information about NYC. I'm going to drop the second Borough column from this data set and I'm exporting it so that it is ready for my next document where I'm going to make a machine learning model."
   ]
  },
  {
   "cell_type": "code",
   "execution_count": 25,
   "metadata": {
    "executionInfo": {
     "elapsed": 2228,
     "status": "ok",
     "timestamp": 1618574939839,
     "user": {
      "displayName": "Milan Patty",
      "photoUrl": "https://lh5.googleusercontent.com/-49abHFgA8WA/AAAAAAAAAAI/AAAAAAAAcec/0-aejkLTAzs/s64/photo.jpg",
      "userId": "07657054432866429697"
     },
     "user_tz": -120
    },
    "id": "D7waVfOhUPfw"
   },
   "outputs": [],
   "source": [
    "# Dropping the 2nd borough column\n",
    "new_df.drop('Borough', axis=1, inplace=True)\n",
    "\n",
    "# Exporting the merged data set\n",
    "new_df.to_csv('data/merged_nyc_dataset.csv', index=False)"
   ]
  }
 ],
 "metadata": {
  "colab": {
   "authorship_tag": "ABX9TyNN9SAdKwgC6nJ5hDDw08zv",
   "collapsed_sections": [],
   "mount_file_id": "1I48sZMT5ANrzvJZPPup129cIe8tPspuO",
   "name": "Kopie van data_preparation_NYC_PSP.ipynb",
   "provenance": [
    {
     "file_id": "1w608RSuzoAXOar-nYw0WYcdxCNLYqusR",
     "timestamp": 1618566366111
    }
   ],
   "toc_visible": true
  },
  "kernelspec": {
   "display_name": "Python 3",
   "language": "python",
   "name": "python3"
  },
  "language_info": {
   "codemirror_mode": {
    "name": "ipython",
    "version": 3
   },
   "file_extension": ".py",
   "mimetype": "text/x-python",
   "name": "python",
   "nbconvert_exporter": "python",
   "pygments_lexer": "ipython3",
   "version": "3.7.6"
  }
 },
 "nbformat": 4,
 "nbformat_minor": 4
}
